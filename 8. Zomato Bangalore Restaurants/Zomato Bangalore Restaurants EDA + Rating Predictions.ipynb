{
 "cells": [
  {
   "cell_type": "code",
   "execution_count": 1,
   "id": "f021f141",
   "metadata": {},
   "outputs": [],
   "source": [
    "#Importing necessary libraries\n",
    "\n",
    "import pandas as pd\n",
    "import numpy as np\n",
    "import matplotlib.pyplot as plt\n",
    "import seaborn as sns\n",
    "\n",
    "from sklearn.linear_model import LinearRegression\n",
    "from sklearn import linear_model\n",
    "from sklearn.ensemble import RandomForestRegressor\n",
    "from sklearn.tree import DecisionTreeRegressor\n",
    "from sklearn.svm import SVR\n",
    "from sklearn.model_selection import train_test_split\n",
    "from sklearn.metrics import mean_absolute_error, mean_squared_error, mean_squared_log_error, r2_score\n",
    "\n",
    "\n",
    "%matplotlib inline\n",
    "\n",
    "sns.set_style(\"whitegrid\")"
   ]
  },
  {
   "cell_type": "code",
   "execution_count": 2,
   "id": "b4479201",
   "metadata": {
    "scrolled": false
   },
   "outputs": [
    {
     "data": {
      "text/html": [
       "<div>\n",
       "<style scoped>\n",
       "    .dataframe tbody tr th:only-of-type {\n",
       "        vertical-align: middle;\n",
       "    }\n",
       "\n",
       "    .dataframe tbody tr th {\n",
       "        vertical-align: top;\n",
       "    }\n",
       "\n",
       "    .dataframe thead th {\n",
       "        text-align: right;\n",
       "    }\n",
       "</style>\n",
       "<table border=\"1\" class=\"dataframe\">\n",
       "  <thead>\n",
       "    <tr style=\"text-align: right;\">\n",
       "      <th></th>\n",
       "      <th>url</th>\n",
       "      <th>address</th>\n",
       "      <th>name</th>\n",
       "      <th>online_order</th>\n",
       "      <th>book_table</th>\n",
       "      <th>rate</th>\n",
       "      <th>votes</th>\n",
       "      <th>phone</th>\n",
       "      <th>location</th>\n",
       "      <th>rest_type</th>\n",
       "      <th>dish_liked</th>\n",
       "      <th>cuisines</th>\n",
       "      <th>approx_cost(for two people)</th>\n",
       "      <th>reviews_list</th>\n",
       "      <th>menu_item</th>\n",
       "      <th>listed_in(type)</th>\n",
       "      <th>listed_in(city)</th>\n",
       "    </tr>\n",
       "  </thead>\n",
       "  <tbody>\n",
       "    <tr>\n",
       "      <th>0</th>\n",
       "      <td>https://www.zomato.com/bangalore/jalsa-banasha...</td>\n",
       "      <td>942, 21st Main Road, 2nd Stage, Banashankari, ...</td>\n",
       "      <td>Jalsa</td>\n",
       "      <td>Yes</td>\n",
       "      <td>Yes</td>\n",
       "      <td>4.1/5</td>\n",
       "      <td>775</td>\n",
       "      <td>080 42297555\\r\\n+91 9743772233</td>\n",
       "      <td>Banashankari</td>\n",
       "      <td>Casual Dining</td>\n",
       "      <td>Pasta, Lunch Buffet, Masala Papad, Paneer Laja...</td>\n",
       "      <td>North Indian, Mughlai, Chinese</td>\n",
       "      <td>800</td>\n",
       "      <td>[('Rated 4.0', 'RATED\\n  A beautiful place to ...</td>\n",
       "      <td>[]</td>\n",
       "      <td>Buffet</td>\n",
       "      <td>Banashankari</td>\n",
       "    </tr>\n",
       "    <tr>\n",
       "      <th>1</th>\n",
       "      <td>https://www.zomato.com/bangalore/spice-elephan...</td>\n",
       "      <td>2nd Floor, 80 Feet Road, Near Big Bazaar, 6th ...</td>\n",
       "      <td>Spice Elephant</td>\n",
       "      <td>Yes</td>\n",
       "      <td>No</td>\n",
       "      <td>4.1/5</td>\n",
       "      <td>787</td>\n",
       "      <td>080 41714161</td>\n",
       "      <td>Banashankari</td>\n",
       "      <td>Casual Dining</td>\n",
       "      <td>Momos, Lunch Buffet, Chocolate Nirvana, Thai G...</td>\n",
       "      <td>Chinese, North Indian, Thai</td>\n",
       "      <td>800</td>\n",
       "      <td>[('Rated 4.0', 'RATED\\n  Had been here for din...</td>\n",
       "      <td>[]</td>\n",
       "      <td>Buffet</td>\n",
       "      <td>Banashankari</td>\n",
       "    </tr>\n",
       "    <tr>\n",
       "      <th>2</th>\n",
       "      <td>https://www.zomato.com/SanchurroBangalore?cont...</td>\n",
       "      <td>1112, Next to KIMS Medical College, 17th Cross...</td>\n",
       "      <td>San Churro Cafe</td>\n",
       "      <td>Yes</td>\n",
       "      <td>No</td>\n",
       "      <td>3.8/5</td>\n",
       "      <td>918</td>\n",
       "      <td>+91 9663487993</td>\n",
       "      <td>Banashankari</td>\n",
       "      <td>Cafe, Casual Dining</td>\n",
       "      <td>Churros, Cannelloni, Minestrone Soup, Hot Choc...</td>\n",
       "      <td>Cafe, Mexican, Italian</td>\n",
       "      <td>800</td>\n",
       "      <td>[('Rated 3.0', \"RATED\\n  Ambience is not that ...</td>\n",
       "      <td>[]</td>\n",
       "      <td>Buffet</td>\n",
       "      <td>Banashankari</td>\n",
       "    </tr>\n",
       "    <tr>\n",
       "      <th>3</th>\n",
       "      <td>https://www.zomato.com/bangalore/addhuri-udupi...</td>\n",
       "      <td>1st Floor, Annakuteera, 3rd Stage, Banashankar...</td>\n",
       "      <td>Addhuri Udupi Bhojana</td>\n",
       "      <td>No</td>\n",
       "      <td>No</td>\n",
       "      <td>3.7/5</td>\n",
       "      <td>88</td>\n",
       "      <td>+91 9620009302</td>\n",
       "      <td>Banashankari</td>\n",
       "      <td>Quick Bites</td>\n",
       "      <td>Masala Dosa</td>\n",
       "      <td>South Indian, North Indian</td>\n",
       "      <td>300</td>\n",
       "      <td>[('Rated 4.0', \"RATED\\n  Great food and proper...</td>\n",
       "      <td>[]</td>\n",
       "      <td>Buffet</td>\n",
       "      <td>Banashankari</td>\n",
       "    </tr>\n",
       "    <tr>\n",
       "      <th>4</th>\n",
       "      <td>https://www.zomato.com/bangalore/grand-village...</td>\n",
       "      <td>10, 3rd Floor, Lakshmi Associates, Gandhi Baza...</td>\n",
       "      <td>Grand Village</td>\n",
       "      <td>No</td>\n",
       "      <td>No</td>\n",
       "      <td>3.8/5</td>\n",
       "      <td>166</td>\n",
       "      <td>+91 8026612447\\r\\n+91 9901210005</td>\n",
       "      <td>Basavanagudi</td>\n",
       "      <td>Casual Dining</td>\n",
       "      <td>Panipuri, Gol Gappe</td>\n",
       "      <td>North Indian, Rajasthani</td>\n",
       "      <td>600</td>\n",
       "      <td>[('Rated 4.0', 'RATED\\n  Very good restaurant ...</td>\n",
       "      <td>[]</td>\n",
       "      <td>Buffet</td>\n",
       "      <td>Banashankari</td>\n",
       "    </tr>\n",
       "  </tbody>\n",
       "</table>\n",
       "</div>"
      ],
      "text/plain": [
       "                                                 url  \\\n",
       "0  https://www.zomato.com/bangalore/jalsa-banasha...   \n",
       "1  https://www.zomato.com/bangalore/spice-elephan...   \n",
       "2  https://www.zomato.com/SanchurroBangalore?cont...   \n",
       "3  https://www.zomato.com/bangalore/addhuri-udupi...   \n",
       "4  https://www.zomato.com/bangalore/grand-village...   \n",
       "\n",
       "                                             address                   name  \\\n",
       "0  942, 21st Main Road, 2nd Stage, Banashankari, ...                  Jalsa   \n",
       "1  2nd Floor, 80 Feet Road, Near Big Bazaar, 6th ...         Spice Elephant   \n",
       "2  1112, Next to KIMS Medical College, 17th Cross...        San Churro Cafe   \n",
       "3  1st Floor, Annakuteera, 3rd Stage, Banashankar...  Addhuri Udupi Bhojana   \n",
       "4  10, 3rd Floor, Lakshmi Associates, Gandhi Baza...          Grand Village   \n",
       "\n",
       "  online_order book_table   rate  votes                             phone  \\\n",
       "0          Yes        Yes  4.1/5    775    080 42297555\\r\\n+91 9743772233   \n",
       "1          Yes         No  4.1/5    787                      080 41714161   \n",
       "2          Yes         No  3.8/5    918                    +91 9663487993   \n",
       "3           No         No  3.7/5     88                    +91 9620009302   \n",
       "4           No         No  3.8/5    166  +91 8026612447\\r\\n+91 9901210005   \n",
       "\n",
       "       location            rest_type  \\\n",
       "0  Banashankari        Casual Dining   \n",
       "1  Banashankari        Casual Dining   \n",
       "2  Banashankari  Cafe, Casual Dining   \n",
       "3  Banashankari          Quick Bites   \n",
       "4  Basavanagudi        Casual Dining   \n",
       "\n",
       "                                          dish_liked  \\\n",
       "0  Pasta, Lunch Buffet, Masala Papad, Paneer Laja...   \n",
       "1  Momos, Lunch Buffet, Chocolate Nirvana, Thai G...   \n",
       "2  Churros, Cannelloni, Minestrone Soup, Hot Choc...   \n",
       "3                                        Masala Dosa   \n",
       "4                                Panipuri, Gol Gappe   \n",
       "\n",
       "                         cuisines approx_cost(for two people)  \\\n",
       "0  North Indian, Mughlai, Chinese                         800   \n",
       "1     Chinese, North Indian, Thai                         800   \n",
       "2          Cafe, Mexican, Italian                         800   \n",
       "3      South Indian, North Indian                         300   \n",
       "4        North Indian, Rajasthani                         600   \n",
       "\n",
       "                                        reviews_list menu_item  \\\n",
       "0  [('Rated 4.0', 'RATED\\n  A beautiful place to ...        []   \n",
       "1  [('Rated 4.0', 'RATED\\n  Had been here for din...        []   \n",
       "2  [('Rated 3.0', \"RATED\\n  Ambience is not that ...        []   \n",
       "3  [('Rated 4.0', \"RATED\\n  Great food and proper...        []   \n",
       "4  [('Rated 4.0', 'RATED\\n  Very good restaurant ...        []   \n",
       "\n",
       "  listed_in(type) listed_in(city)  \n",
       "0          Buffet    Banashankari  \n",
       "1          Buffet    Banashankari  \n",
       "2          Buffet    Banashankari  \n",
       "3          Buffet    Banashankari  \n",
       "4          Buffet    Banashankari  "
      ]
     },
     "execution_count": 2,
     "metadata": {},
     "output_type": "execute_result"
    }
   ],
   "source": [
    "#Loading the dataset\n",
    "\n",
    "df = pd.read_csv(\"zomato.csv\")\n",
    "\n",
    "df.head()"
   ]
  },
  {
   "cell_type": "code",
   "execution_count": 3,
   "id": "02808e6a",
   "metadata": {},
   "outputs": [
    {
     "name": "stdout",
     "output_type": "stream",
     "text": [
      "<class 'pandas.core.frame.DataFrame'>\n",
      "RangeIndex: 51717 entries, 0 to 51716\n",
      "Data columns (total 17 columns):\n",
      " #   Column                       Non-Null Count  Dtype \n",
      "---  ------                       --------------  ----- \n",
      " 0   url                          51717 non-null  object\n",
      " 1   address                      51717 non-null  object\n",
      " 2   name                         51717 non-null  object\n",
      " 3   online_order                 51717 non-null  object\n",
      " 4   book_table                   51717 non-null  object\n",
      " 5   rate                         43942 non-null  object\n",
      " 6   votes                        51717 non-null  int64 \n",
      " 7   phone                        50509 non-null  object\n",
      " 8   location                     51696 non-null  object\n",
      " 9   rest_type                    51490 non-null  object\n",
      " 10  dish_liked                   23639 non-null  object\n",
      " 11  cuisines                     51672 non-null  object\n",
      " 12  approx_cost(for two people)  51371 non-null  object\n",
      " 13  reviews_list                 51717 non-null  object\n",
      " 14  menu_item                    51717 non-null  object\n",
      " 15  listed_in(type)              51717 non-null  object\n",
      " 16  listed_in(city)              51717 non-null  object\n",
      "dtypes: int64(1), object(16)\n",
      "memory usage: 6.7+ MB\n"
     ]
    }
   ],
   "source": [
    "#Checking basic information about the dataset\n",
    "\n",
    "df.info()"
   ]
  },
  {
   "cell_type": "markdown",
   "id": "3979b9ee",
   "metadata": {},
   "source": [
    "## 1. Data Cleaning"
   ]
  },
  {
   "cell_type": "code",
   "execution_count": 4,
   "id": "c208e89d",
   "metadata": {
    "scrolled": true
   },
   "outputs": [
    {
     "data": {
      "text/plain": [
       "url                                0\n",
       "address                            0\n",
       "name                               0\n",
       "online_order                       0\n",
       "book_table                         0\n",
       "rate                            7775\n",
       "votes                              0\n",
       "phone                           1208\n",
       "location                          21\n",
       "rest_type                        227\n",
       "dish_liked                     28078\n",
       "cuisines                          45\n",
       "approx_cost(for two people)      346\n",
       "reviews_list                       0\n",
       "menu_item                          0\n",
       "listed_in(type)                    0\n",
       "listed_in(city)                    0\n",
       "dtype: int64"
      ]
     },
     "execution_count": 4,
     "metadata": {},
     "output_type": "execute_result"
    }
   ],
   "source": [
    "#Checking for null values\n",
    "\n",
    "df.isna().sum()"
   ]
  },
  {
   "cell_type": "code",
   "execution_count": 5,
   "id": "a2e9ac97",
   "metadata": {},
   "outputs": [],
   "source": [
    "#Dropping unnecessary columns\n",
    "\n",
    "df.drop(columns = [\"url\", \"phone\", \"listed_in(city)\", \"menu_item\", \"dish_liked\", \"reviews_list\"],\n",
    "        inplace = True)"
   ]
  },
  {
   "cell_type": "code",
   "execution_count": 6,
   "id": "58f8c45d",
   "metadata": {},
   "outputs": [],
   "source": [
    "#Dropping missing values\n",
    "\n",
    "df.dropna(inplace = True)"
   ]
  },
  {
   "cell_type": "code",
   "execution_count": 7,
   "id": "5885b714",
   "metadata": {},
   "outputs": [
    {
     "data": {
      "text/plain": [
       "12543"
      ]
     },
     "execution_count": 7,
     "metadata": {},
     "output_type": "execute_result"
    }
   ],
   "source": [
    "#Checking the amount of duplicates in the dataset\n",
    "\n",
    "df.duplicated().sum()"
   ]
  },
  {
   "cell_type": "code",
   "execution_count": 8,
   "id": "441f61ad",
   "metadata": {},
   "outputs": [],
   "source": [
    "#Dropping duplicates\n",
    "\n",
    "df.drop_duplicates(inplace = True)"
   ]
  },
  {
   "cell_type": "code",
   "execution_count": 9,
   "id": "02459319",
   "metadata": {},
   "outputs": [],
   "source": [
    "#Renaming some columns\n",
    "\n",
    "df.rename(columns = {\"name\": \"rest_name\",\n",
    "                     \"address\": \"address\",\n",
    "                     \"rate\": \"rating\",\n",
    "                     \"cuisines\": \"cuisine_type\",\n",
    "                     \"listed_in(type)\": \"service_type\",\n",
    "                     \"approx_cost(for two people)\":\"cost_for_two\"},\n",
    "          inplace = True)"
   ]
  },
  {
   "cell_type": "code",
   "execution_count": 10,
   "id": "f771e91d",
   "metadata": {},
   "outputs": [],
   "source": [
    "#Reordering the columns in the dataset\n",
    "\n",
    "df = df.reindex(columns = [\"rest_name\", \"rest_type\", \"service_type\", \"cuisine_type\", \"cost_for_two\",\n",
    "                           \"book_table\",\"online_order\",\"rating\", \"votes\", \"location\", \"address\"])"
   ]
  },
  {
   "cell_type": "code",
   "execution_count": 11,
   "id": "5e5140dc",
   "metadata": {},
   "outputs": [
    {
     "data": {
      "text/html": [
       "<div>\n",
       "<style scoped>\n",
       "    .dataframe tbody tr th:only-of-type {\n",
       "        vertical-align: middle;\n",
       "    }\n",
       "\n",
       "    .dataframe tbody tr th {\n",
       "        vertical-align: top;\n",
       "    }\n",
       "\n",
       "    .dataframe thead th {\n",
       "        text-align: right;\n",
       "    }\n",
       "</style>\n",
       "<table border=\"1\" class=\"dataframe\">\n",
       "  <thead>\n",
       "    <tr style=\"text-align: right;\">\n",
       "      <th></th>\n",
       "      <th>rest_name</th>\n",
       "      <th>rest_type</th>\n",
       "      <th>service_type</th>\n",
       "      <th>cuisine_type</th>\n",
       "      <th>cost_for_two</th>\n",
       "      <th>book_table</th>\n",
       "      <th>online_order</th>\n",
       "      <th>rating</th>\n",
       "      <th>votes</th>\n",
       "      <th>location</th>\n",
       "      <th>address</th>\n",
       "    </tr>\n",
       "  </thead>\n",
       "  <tbody>\n",
       "    <tr>\n",
       "      <th>0</th>\n",
       "      <td>Jalsa</td>\n",
       "      <td>Casual Dining</td>\n",
       "      <td>Buffet</td>\n",
       "      <td>North Indian, Mughlai, Chinese</td>\n",
       "      <td>800</td>\n",
       "      <td>Yes</td>\n",
       "      <td>Yes</td>\n",
       "      <td>4.1/5</td>\n",
       "      <td>775</td>\n",
       "      <td>Banashankari</td>\n",
       "      <td>942, 21st Main Road, 2nd Stage, Banashankari, ...</td>\n",
       "    </tr>\n",
       "    <tr>\n",
       "      <th>1</th>\n",
       "      <td>Spice Elephant</td>\n",
       "      <td>Casual Dining</td>\n",
       "      <td>Buffet</td>\n",
       "      <td>Chinese, North Indian, Thai</td>\n",
       "      <td>800</td>\n",
       "      <td>No</td>\n",
       "      <td>Yes</td>\n",
       "      <td>4.1/5</td>\n",
       "      <td>787</td>\n",
       "      <td>Banashankari</td>\n",
       "      <td>2nd Floor, 80 Feet Road, Near Big Bazaar, 6th ...</td>\n",
       "    </tr>\n",
       "    <tr>\n",
       "      <th>2</th>\n",
       "      <td>San Churro Cafe</td>\n",
       "      <td>Cafe, Casual Dining</td>\n",
       "      <td>Buffet</td>\n",
       "      <td>Cafe, Mexican, Italian</td>\n",
       "      <td>800</td>\n",
       "      <td>No</td>\n",
       "      <td>Yes</td>\n",
       "      <td>3.8/5</td>\n",
       "      <td>918</td>\n",
       "      <td>Banashankari</td>\n",
       "      <td>1112, Next to KIMS Medical College, 17th Cross...</td>\n",
       "    </tr>\n",
       "    <tr>\n",
       "      <th>3</th>\n",
       "      <td>Addhuri Udupi Bhojana</td>\n",
       "      <td>Quick Bites</td>\n",
       "      <td>Buffet</td>\n",
       "      <td>South Indian, North Indian</td>\n",
       "      <td>300</td>\n",
       "      <td>No</td>\n",
       "      <td>No</td>\n",
       "      <td>3.7/5</td>\n",
       "      <td>88</td>\n",
       "      <td>Banashankari</td>\n",
       "      <td>1st Floor, Annakuteera, 3rd Stage, Banashankar...</td>\n",
       "    </tr>\n",
       "    <tr>\n",
       "      <th>4</th>\n",
       "      <td>Grand Village</td>\n",
       "      <td>Casual Dining</td>\n",
       "      <td>Buffet</td>\n",
       "      <td>North Indian, Rajasthani</td>\n",
       "      <td>600</td>\n",
       "      <td>No</td>\n",
       "      <td>No</td>\n",
       "      <td>3.8/5</td>\n",
       "      <td>166</td>\n",
       "      <td>Basavanagudi</td>\n",
       "      <td>10, 3rd Floor, Lakshmi Associates, Gandhi Baza...</td>\n",
       "    </tr>\n",
       "  </tbody>\n",
       "</table>\n",
       "</div>"
      ],
      "text/plain": [
       "               rest_name            rest_type service_type  \\\n",
       "0                  Jalsa        Casual Dining       Buffet   \n",
       "1         Spice Elephant        Casual Dining       Buffet   \n",
       "2        San Churro Cafe  Cafe, Casual Dining       Buffet   \n",
       "3  Addhuri Udupi Bhojana          Quick Bites       Buffet   \n",
       "4          Grand Village        Casual Dining       Buffet   \n",
       "\n",
       "                     cuisine_type cost_for_two book_table online_order rating  \\\n",
       "0  North Indian, Mughlai, Chinese          800        Yes          Yes  4.1/5   \n",
       "1     Chinese, North Indian, Thai          800         No          Yes  4.1/5   \n",
       "2          Cafe, Mexican, Italian          800         No          Yes  3.8/5   \n",
       "3      South Indian, North Indian          300         No           No  3.7/5   \n",
       "4        North Indian, Rajasthani          600         No           No  3.8/5   \n",
       "\n",
       "   votes      location                                            address  \n",
       "0    775  Banashankari  942, 21st Main Road, 2nd Stage, Banashankari, ...  \n",
       "1    787  Banashankari  2nd Floor, 80 Feet Road, Near Big Bazaar, 6th ...  \n",
       "2    918  Banashankari  1112, Next to KIMS Medical College, 17th Cross...  \n",
       "3     88  Banashankari  1st Floor, Annakuteera, 3rd Stage, Banashankar...  \n",
       "4    166  Basavanagudi  10, 3rd Floor, Lakshmi Associates, Gandhi Baza...  "
      ]
     },
     "execution_count": 11,
     "metadata": {},
     "output_type": "execute_result"
    }
   ],
   "source": [
    "df.head()"
   ]
  },
  {
   "cell_type": "code",
   "execution_count": 12,
   "id": "b0f5803d",
   "metadata": {},
   "outputs": [],
   "source": [
    "#Converting \"Cost for two\" to a numerical column\n",
    "\n",
    "df[\"cost_for_two\"] = df[\"cost_for_two\"].apply(lambda x: x.replace(\",\", \".\"))\n",
    "\n",
    "df[\"cost_for_two\"] = df[\"cost_for_two\"].astype(float)"
   ]
  },
  {
   "cell_type": "code",
   "execution_count": 13,
   "id": "db7632ab",
   "metadata": {},
   "outputs": [],
   "source": [
    "#Removing last 2 characters from \"rating\" values\n",
    "\n",
    "df[\"rating\"] = df[\"rating\"].str[:-2]"
   ]
  },
  {
   "cell_type": "code",
   "execution_count": 14,
   "id": "c1a967cb",
   "metadata": {},
   "outputs": [
    {
     "data": {
      "text/html": [
       "<div>\n",
       "<style scoped>\n",
       "    .dataframe tbody tr th:only-of-type {\n",
       "        vertical-align: middle;\n",
       "    }\n",
       "\n",
       "    .dataframe tbody tr th {\n",
       "        vertical-align: top;\n",
       "    }\n",
       "\n",
       "    .dataframe thead th {\n",
       "        text-align: right;\n",
       "    }\n",
       "</style>\n",
       "<table border=\"1\" class=\"dataframe\">\n",
       "  <thead>\n",
       "    <tr style=\"text-align: right;\">\n",
       "      <th></th>\n",
       "      <th>rest_name</th>\n",
       "      <th>rest_type</th>\n",
       "      <th>service_type</th>\n",
       "      <th>cuisine_type</th>\n",
       "      <th>cost_for_two</th>\n",
       "      <th>book_table</th>\n",
       "      <th>online_order</th>\n",
       "      <th>rating</th>\n",
       "      <th>votes</th>\n",
       "      <th>location</th>\n",
       "      <th>address</th>\n",
       "    </tr>\n",
       "  </thead>\n",
       "  <tbody>\n",
       "    <tr>\n",
       "      <th>0</th>\n",
       "      <td>Jalsa</td>\n",
       "      <td>Casual Dining</td>\n",
       "      <td>Buffet</td>\n",
       "      <td>North Indian, Mughlai, Chinese</td>\n",
       "      <td>800.0</td>\n",
       "      <td>Yes</td>\n",
       "      <td>Yes</td>\n",
       "      <td>4.1</td>\n",
       "      <td>775</td>\n",
       "      <td>Banashankari</td>\n",
       "      <td>942, 21st Main Road, 2nd Stage, Banashankari, ...</td>\n",
       "    </tr>\n",
       "    <tr>\n",
       "      <th>1</th>\n",
       "      <td>Spice Elephant</td>\n",
       "      <td>Casual Dining</td>\n",
       "      <td>Buffet</td>\n",
       "      <td>Chinese, North Indian, Thai</td>\n",
       "      <td>800.0</td>\n",
       "      <td>No</td>\n",
       "      <td>Yes</td>\n",
       "      <td>4.1</td>\n",
       "      <td>787</td>\n",
       "      <td>Banashankari</td>\n",
       "      <td>2nd Floor, 80 Feet Road, Near Big Bazaar, 6th ...</td>\n",
       "    </tr>\n",
       "    <tr>\n",
       "      <th>2</th>\n",
       "      <td>San Churro Cafe</td>\n",
       "      <td>Cafe, Casual Dining</td>\n",
       "      <td>Buffet</td>\n",
       "      <td>Cafe, Mexican, Italian</td>\n",
       "      <td>800.0</td>\n",
       "      <td>No</td>\n",
       "      <td>Yes</td>\n",
       "      <td>3.8</td>\n",
       "      <td>918</td>\n",
       "      <td>Banashankari</td>\n",
       "      <td>1112, Next to KIMS Medical College, 17th Cross...</td>\n",
       "    </tr>\n",
       "    <tr>\n",
       "      <th>3</th>\n",
       "      <td>Addhuri Udupi Bhojana</td>\n",
       "      <td>Quick Bites</td>\n",
       "      <td>Buffet</td>\n",
       "      <td>South Indian, North Indian</td>\n",
       "      <td>300.0</td>\n",
       "      <td>No</td>\n",
       "      <td>No</td>\n",
       "      <td>3.7</td>\n",
       "      <td>88</td>\n",
       "      <td>Banashankari</td>\n",
       "      <td>1st Floor, Annakuteera, 3rd Stage, Banashankar...</td>\n",
       "    </tr>\n",
       "    <tr>\n",
       "      <th>4</th>\n",
       "      <td>Grand Village</td>\n",
       "      <td>Casual Dining</td>\n",
       "      <td>Buffet</td>\n",
       "      <td>North Indian, Rajasthani</td>\n",
       "      <td>600.0</td>\n",
       "      <td>No</td>\n",
       "      <td>No</td>\n",
       "      <td>3.8</td>\n",
       "      <td>166</td>\n",
       "      <td>Basavanagudi</td>\n",
       "      <td>10, 3rd Floor, Lakshmi Associates, Gandhi Baza...</td>\n",
       "    </tr>\n",
       "  </tbody>\n",
       "</table>\n",
       "</div>"
      ],
      "text/plain": [
       "               rest_name            rest_type service_type  \\\n",
       "0                  Jalsa        Casual Dining       Buffet   \n",
       "1         Spice Elephant        Casual Dining       Buffet   \n",
       "2        San Churro Cafe  Cafe, Casual Dining       Buffet   \n",
       "3  Addhuri Udupi Bhojana          Quick Bites       Buffet   \n",
       "4          Grand Village        Casual Dining       Buffet   \n",
       "\n",
       "                     cuisine_type  cost_for_two book_table online_order  \\\n",
       "0  North Indian, Mughlai, Chinese         800.0        Yes          Yes   \n",
       "1     Chinese, North Indian, Thai         800.0         No          Yes   \n",
       "2          Cafe, Mexican, Italian         800.0         No          Yes   \n",
       "3      South Indian, North Indian         300.0         No           No   \n",
       "4        North Indian, Rajasthani         600.0         No           No   \n",
       "\n",
       "   rating  votes      location  \\\n",
       "0     4.1    775  Banashankari   \n",
       "1     4.1    787  Banashankari   \n",
       "2     3.8    918  Banashankari   \n",
       "3     3.7     88  Banashankari   \n",
       "4     3.8    166  Basavanagudi   \n",
       "\n",
       "                                             address  \n",
       "0  942, 21st Main Road, 2nd Stage, Banashankari, ...  \n",
       "1  2nd Floor, 80 Feet Road, Near Big Bazaar, 6th ...  \n",
       "2  1112, Next to KIMS Medical College, 17th Cross...  \n",
       "3  1st Floor, Annakuteera, 3rd Stage, Banashankar...  \n",
       "4  10, 3rd Floor, Lakshmi Associates, Gandhi Baza...  "
      ]
     },
     "execution_count": 14,
     "metadata": {},
     "output_type": "execute_result"
    }
   ],
   "source": [
    "#Converting \"rating\" to a numerical column\n",
    "\n",
    "df[\"rating\"] = pd.to_numeric(df[\"rating\"], errors = \"coerce\")\n",
    "\n",
    "df.head()"
   ]
  },
  {
   "cell_type": "code",
   "execution_count": 15,
   "id": "56b3a7d3",
   "metadata": {},
   "outputs": [
    {
     "name": "stdout",
     "output_type": "stream",
     "text": [
      "<class 'pandas.core.frame.DataFrame'>\n",
      "Int64Index: 30990 entries, 0 to 51716\n",
      "Data columns (total 11 columns):\n",
      " #   Column        Non-Null Count  Dtype  \n",
      "---  ------        --------------  -----  \n",
      " 0   rest_name     30990 non-null  object \n",
      " 1   rest_type     30990 non-null  object \n",
      " 2   service_type  30990 non-null  object \n",
      " 3   cuisine_type  30990 non-null  object \n",
      " 4   cost_for_two  30990 non-null  float64\n",
      " 5   book_table    30990 non-null  object \n",
      " 6   online_order  30990 non-null  object \n",
      " 7   rating        29661 non-null  float64\n",
      " 8   votes         30990 non-null  int64  \n",
      " 9   location      30990 non-null  object \n",
      " 10  address       30990 non-null  object \n",
      "dtypes: float64(2), int64(1), object(8)\n",
      "memory usage: 2.8+ MB\n"
     ]
    }
   ],
   "source": [
    "df.info()"
   ]
  },
  {
   "cell_type": "code",
   "execution_count": 16,
   "id": "ee428c05",
   "metadata": {},
   "outputs": [],
   "source": [
    "#Drop the remaining missing values\n",
    "\n",
    "df.dropna(inplace = True)"
   ]
  },
  {
   "cell_type": "markdown",
   "id": "85fe32cf",
   "metadata": {},
   "source": [
    "## 2. Exploratoty Data Analysis"
   ]
  },
  {
   "cell_type": "markdown",
   "id": "6bd376eb",
   "metadata": {},
   "source": [
    "#### 2.1. What are the most common service types Bangalore restaurants offer?"
   ]
  },
  {
   "cell_type": "code",
   "execution_count": 17,
   "id": "ab789c42",
   "metadata": {},
   "outputs": [
    {
     "data": {
      "image/png": "[encoded data removed]",
      "text/plain": [
       "<Figure size 1152x576 with 1 Axes>"
      ]
     },
     "metadata": {},
     "output_type": "display_data"
    }
   ],
   "source": [
    "#Creating a DataFrame \n",
    "\n",
    "restaurant_servicetype = pd.DataFrame(df[\"service_type\"].value_counts().sort_values(ascending = False).reset_index())\n",
    "\n",
    "restaurant_servicetype.rename(columns = {\"index\": \"Restaurant Service Type\",\n",
    "                                   \"service_type\": \"Number of Restaurants\"},\n",
    "                       inplace = True)\n",
    "\n",
    "#Visualizing the data\n",
    "\n",
    "plt.figure(figsize = (16,8))\n",
    "\n",
    "sns.barplot(data = restaurant_servicetype,\n",
    "            x = \"Restaurant Service Type\",\n",
    "            y = \"Number of Restaurants\",\n",
    "            color = \"lightblue\")\n",
    "\n",
    "plt.title(\"Number of Restaurants per Service Type\", fontsize = 14)\n",
    "plt.xlabel(None)\n",
    "plt.ylabel(\"Number of Restaurants\", fontsize = 12);"
   ]
  },
  {
   "cell_type": "code",
   "execution_count": 18,
   "id": "59e8a90f",
   "metadata": {},
   "outputs": [
    {
     "data": {
      "text/html": [
       "<div>\n",
       "<style scoped>\n",
       "    .dataframe tbody tr th:only-of-type {\n",
       "        vertical-align: middle;\n",
       "    }\n",
       "\n",
       "    .dataframe tbody tr th {\n",
       "        vertical-align: top;\n",
       "    }\n",
       "\n",
       "    .dataframe thead th {\n",
       "        text-align: right;\n",
       "    }\n",
       "</style>\n",
       "<table border=\"1\" class=\"dataframe\">\n",
       "  <thead>\n",
       "    <tr style=\"text-align: right;\">\n",
       "      <th></th>\n",
       "      <th>Restaurant Service Type</th>\n",
       "      <th>Number of Restaurants</th>\n",
       "    </tr>\n",
       "  </thead>\n",
       "  <tbody>\n",
       "    <tr>\n",
       "      <th>0</th>\n",
       "      <td>Delivery</td>\n",
       "      <td>13521</td>\n",
       "    </tr>\n",
       "    <tr>\n",
       "      <th>1</th>\n",
       "      <td>Dine-out</td>\n",
       "      <td>10871</td>\n",
       "    </tr>\n",
       "    <tr>\n",
       "      <th>2</th>\n",
       "      <td>Desserts</td>\n",
       "      <td>2032</td>\n",
       "    </tr>\n",
       "    <tr>\n",
       "      <th>3</th>\n",
       "      <td>Cafes</td>\n",
       "      <td>1137</td>\n",
       "    </tr>\n",
       "    <tr>\n",
       "      <th>4</th>\n",
       "      <td>Drinks &amp; nightlife</td>\n",
       "      <td>877</td>\n",
       "    </tr>\n",
       "    <tr>\n",
       "      <th>5</th>\n",
       "      <td>Buffet</td>\n",
       "      <td>655</td>\n",
       "    </tr>\n",
       "    <tr>\n",
       "      <th>6</th>\n",
       "      <td>Pubs and bars</td>\n",
       "      <td>568</td>\n",
       "    </tr>\n",
       "  </tbody>\n",
       "</table>\n",
       "</div>"
      ],
      "text/plain": [
       "  Restaurant Service Type  Number of Restaurants\n",
       "0                Delivery                  13521\n",
       "1                Dine-out                  10871\n",
       "2                Desserts                   2032\n",
       "3                   Cafes                   1137\n",
       "4      Drinks & nightlife                    877\n",
       "5                  Buffet                    655\n",
       "6           Pubs and bars                    568"
      ]
     },
     "execution_count": 18,
     "metadata": {},
     "output_type": "execute_result"
    }
   ],
   "source": [
    "restaurant_servicetype"
   ]
  },
  {
   "cell_type": "markdown",
   "id": "bffe7e35",
   "metadata": {},
   "source": [
    "#### Answer:\n",
    "\n",
    "* The vast majority of the Restaurants in Bangalore are Delivery or Dine-out Restaurants."
   ]
  },
  {
   "cell_type": "markdown",
   "id": "e943fcab",
   "metadata": {},
   "source": [
    "#### 2.2. What are the most popular restaurant types in Bangalore?\n"
   ]
  },
  {
   "cell_type": "code",
   "execution_count": 19,
   "id": "44b6f724",
   "metadata": {},
   "outputs": [
    {
     "data": {
      "image/png": "[encoded data removed]",
      "text/plain": [
       "<Figure size 1152x576 with 1 Axes>"
      ]
     },
     "metadata": {},
     "output_type": "display_data"
    }
   ],
   "source": [
    "#Creating a DataFrame\n",
    "\n",
    "restaurant_types = pd.DataFrame(df[\"rest_type\"].value_counts()[:10].sort_values(ascending = False).reset_index())\n",
    "\n",
    "restaurant_types.rename(columns = {\"index\": \"Restaurant Type\",\n",
    "                                   \"rest_type\": \"Number of Restaurants\"},\n",
    "                        inplace = True)\n",
    "\n",
    "#Visualizing the data \n",
    "\n",
    "plt.figure(figsize = (16,8))\n",
    "\n",
    "sns.barplot(data = restaurant_types,\n",
    "            x = \"Restaurant Type\",\n",
    "            y = \"Number of Restaurants\",\n",
    "            color = \"lightblue\")\n",
    "\n",
    "plt.title(\"Top 10 Most Popular Restaurant Types in Bangalore\", fontsize = 15)\n",
    "plt.xlabel(None)\n",
    "plt.ylabel(\"Number of Restaurants\", fontsize = 12);"
   ]
  },
  {
   "cell_type": "markdown",
   "id": "65338d50",
   "metadata": {},
   "source": [
    "#### Answer:\n",
    "\n",
    "* The most popular Restaurant types in Bangalore are Quick Bites and Casual Dining Restaurants."
   ]
  },
  {
   "cell_type": "markdown",
   "id": "7e270c13",
   "metadata": {},
   "source": [
    "#### 2.3. What are the most popular cuisine types in Bangalore?"
   ]
  },
  {
   "cell_type": "code",
   "execution_count": 20,
   "id": "902e4cbe",
   "metadata": {},
   "outputs": [
    {
     "data": {
      "image/png": "[encoded data removed]",
      "text/plain": [
       "<Figure size 1152x576 with 1 Axes>"
      ]
     },
     "metadata": {},
     "output_type": "display_data"
    }
   ],
   "source": [
    "#Creating a DataFrame\n",
    "\n",
    "cuisine_type = pd.DataFrame(df[\"cuisine_type\"].value_counts()[:10].sort_values(ascending = False).reset_index())\n",
    "\n",
    "cuisine_type.rename(columns = {\"index\": \"Cuisine Type\",\n",
    "                                \"cuisine_type\": \"Number of Restaurants\"},\n",
    "                     inplace = True)\n",
    "\n",
    "\n",
    "#Visualizing the data\n",
    "\n",
    "plt.figure(figsize = (16,8))\n",
    "\n",
    "sns.barplot(data = cuisine_type,\n",
    "            x = \"Cuisine Type\",\n",
    "            y = \"Number of Restaurants\",\n",
    "            color = \"lightblue\")\n",
    "\n",
    "plt.title(\"Top 10 Most Popular Cuisine Types in Bangalore\", fontsize = 15)\n",
    "plt.xlabel(None)\n",
    "plt.xticks(rotation = 25)\n",
    "plt.ylabel(\"Number of Restaurants\", fontsize = 12);"
   ]
  },
  {
   "cell_type": "markdown",
   "id": "0e0a3fb0",
   "metadata": {},
   "source": [
    "#### Answer:\n",
    "\n",
    "* The most popular cuisine type in Bangalore is, by far, North Indian cuisine. Chinese and South Indian cuisine are also very popular."
   ]
  },
  {
   "cell_type": "markdown",
   "id": "01690ebc",
   "metadata": {},
   "source": [
    "#### 2.4. What are the most popular restaurant locations in Bangalore?"
   ]
  },
  {
   "cell_type": "code",
   "execution_count": 21,
   "id": "3f21ffbe",
   "metadata": {},
   "outputs": [
    {
     "data": {
      "image/png": "[encoded data removed]",
      "text/plain": [
       "<Figure size 1152x576 with 1 Axes>"
      ]
     },
     "metadata": {},
     "output_type": "display_data"
    }
   ],
   "source": [
    "# Creating a DataFrame\n",
    "\n",
    "common_location = pd.DataFrame(df[\"location\"].value_counts()[:10].sort_values(ascending = False).reset_index())\n",
    "\n",
    "common_location.rename(columns = {\"index\": \"location\",\n",
    "                                 \"location\": \"Number of Restaurants\"},\n",
    "                       inplace = True)\n",
    "\n",
    "#Visualizing the data\n",
    "\n",
    "plt.figure(figsize = (16,8))\n",
    "\n",
    "\n",
    "sns.barplot(data = common_location,\n",
    "            x = \"location\",\n",
    "            y= \"Number of Restaurants\",\n",
    "            color = \"lightblue\")\n",
    "\n",
    "plt.title(\"Most Popular Restaurant Locations in Bangalore\", fontsize = 15)\n",
    "plt.xlabel(None)\n",
    "plt.ylabel(\"Number of Restaurants\", fontsize = 12);"
   ]
  },
  {
   "cell_type": "markdown",
   "id": "30ff7ffd",
   "metadata": {},
   "source": [
    "#### Answer:\n",
    "\n",
    "* BTM is the most popular Restaurant location in Bangalore."
   ]
  },
  {
   "cell_type": "markdown",
   "id": "36d1a47d",
   "metadata": {},
   "source": [
    "#### 2.5.  What % of restaurants in Bangalore allow table bookings? And what % lets you order online?"
   ]
  },
  {
   "cell_type": "code",
   "execution_count": 22,
   "id": "63c2d2ce",
   "metadata": {},
   "outputs": [
    {
     "data": {
      "text/html": [
       "<div>\n",
       "<style scoped>\n",
       "    .dataframe tbody tr th:only-of-type {\n",
       "        vertical-align: middle;\n",
       "    }\n",
       "\n",
       "    .dataframe tbody tr th {\n",
       "        vertical-align: top;\n",
       "    }\n",
       "\n",
       "    .dataframe thead th {\n",
       "        text-align: right;\n",
       "    }\n",
       "</style>\n",
       "<table border=\"1\" class=\"dataframe\">\n",
       "  <thead>\n",
       "    <tr style=\"text-align: right;\">\n",
       "      <th></th>\n",
       "      <th>Online Orders</th>\n",
       "      <th>% of Restaurants</th>\n",
       "    </tr>\n",
       "  </thead>\n",
       "  <tbody>\n",
       "    <tr>\n",
       "      <th>0</th>\n",
       "      <td>Yes</td>\n",
       "      <td>64.819123</td>\n",
       "    </tr>\n",
       "    <tr>\n",
       "      <th>1</th>\n",
       "      <td>No</td>\n",
       "      <td>35.180877</td>\n",
       "    </tr>\n",
       "  </tbody>\n",
       "</table>\n",
       "</div>"
      ],
      "text/plain": [
       "  Online Orders  % of Restaurants\n",
       "0           Yes         64.819123\n",
       "1            No         35.180877"
      ]
     },
     "execution_count": 22,
     "metadata": {},
     "output_type": "execute_result"
    }
   ],
   "source": [
    "#Creating a DataFrame\n",
    "\n",
    "online_orders = pd.DataFrame(df[\"online_order\"].value_counts().sort_values(ascending =  False) * 100 / df[\"online_order\"].count()).reset_index()\n",
    "\n",
    "online_orders.rename(columns = {\"index\": \"Online Orders\",\n",
    "                                \"online_order\": \"% of Restaurants\"},\n",
    "                     inplace = True)\n",
    "\n",
    "online_orders"
   ]
  },
  {
   "cell_type": "code",
   "execution_count": 23,
   "id": "b1ba3ada",
   "metadata": {},
   "outputs": [
    {
     "data": {
      "text/html": [
       "<div>\n",
       "<style scoped>\n",
       "    .dataframe tbody tr th:only-of-type {\n",
       "        vertical-align: middle;\n",
       "    }\n",
       "\n",
       "    .dataframe tbody tr th {\n",
       "        vertical-align: top;\n",
       "    }\n",
       "\n",
       "    .dataframe thead th {\n",
       "        text-align: right;\n",
       "    }\n",
       "</style>\n",
       "<table border=\"1\" class=\"dataframe\">\n",
       "  <thead>\n",
       "    <tr style=\"text-align: right;\">\n",
       "      <th></th>\n",
       "      <th>rest_name</th>\n",
       "      <th>rest_type</th>\n",
       "      <th>service_type</th>\n",
       "      <th>cuisine_type</th>\n",
       "      <th>cost_for_two</th>\n",
       "      <th>book_table</th>\n",
       "      <th>online_order</th>\n",
       "      <th>rating</th>\n",
       "      <th>votes</th>\n",
       "      <th>location</th>\n",
       "      <th>address</th>\n",
       "    </tr>\n",
       "  </thead>\n",
       "  <tbody>\n",
       "    <tr>\n",
       "      <th>0</th>\n",
       "      <td>Jalsa</td>\n",
       "      <td>Casual Dining</td>\n",
       "      <td>Buffet</td>\n",
       "      <td>North Indian, Mughlai, Chinese</td>\n",
       "      <td>800.0</td>\n",
       "      <td>Yes</td>\n",
       "      <td>Yes</td>\n",
       "      <td>4.1</td>\n",
       "      <td>775</td>\n",
       "      <td>Banashankari</td>\n",
       "      <td>942, 21st Main Road, 2nd Stage, Banashankari, ...</td>\n",
       "    </tr>\n",
       "    <tr>\n",
       "      <th>1</th>\n",
       "      <td>Spice Elephant</td>\n",
       "      <td>Casual Dining</td>\n",
       "      <td>Buffet</td>\n",
       "      <td>Chinese, North Indian, Thai</td>\n",
       "      <td>800.0</td>\n",
       "      <td>No</td>\n",
       "      <td>Yes</td>\n",
       "      <td>4.1</td>\n",
       "      <td>787</td>\n",
       "      <td>Banashankari</td>\n",
       "      <td>2nd Floor, 80 Feet Road, Near Big Bazaar, 6th ...</td>\n",
       "    </tr>\n",
       "    <tr>\n",
       "      <th>2</th>\n",
       "      <td>San Churro Cafe</td>\n",
       "      <td>Cafe, Casual Dining</td>\n",
       "      <td>Buffet</td>\n",
       "      <td>Cafe, Mexican, Italian</td>\n",
       "      <td>800.0</td>\n",
       "      <td>No</td>\n",
       "      <td>Yes</td>\n",
       "      <td>3.8</td>\n",
       "      <td>918</td>\n",
       "      <td>Banashankari</td>\n",
       "      <td>1112, Next to KIMS Medical College, 17th Cross...</td>\n",
       "    </tr>\n",
       "    <tr>\n",
       "      <th>3</th>\n",
       "      <td>Addhuri Udupi Bhojana</td>\n",
       "      <td>Quick Bites</td>\n",
       "      <td>Buffet</td>\n",
       "      <td>South Indian, North Indian</td>\n",
       "      <td>300.0</td>\n",
       "      <td>No</td>\n",
       "      <td>No</td>\n",
       "      <td>3.7</td>\n",
       "      <td>88</td>\n",
       "      <td>Banashankari</td>\n",
       "      <td>1st Floor, Annakuteera, 3rd Stage, Banashankar...</td>\n",
       "    </tr>\n",
       "    <tr>\n",
       "      <th>4</th>\n",
       "      <td>Grand Village</td>\n",
       "      <td>Casual Dining</td>\n",
       "      <td>Buffet</td>\n",
       "      <td>North Indian, Rajasthani</td>\n",
       "      <td>600.0</td>\n",
       "      <td>No</td>\n",
       "      <td>No</td>\n",
       "      <td>3.8</td>\n",
       "      <td>166</td>\n",
       "      <td>Basavanagudi</td>\n",
       "      <td>10, 3rd Floor, Lakshmi Associates, Gandhi Baza...</td>\n",
       "    </tr>\n",
       "  </tbody>\n",
       "</table>\n",
       "</div>"
      ],
      "text/plain": [
       "               rest_name            rest_type service_type  \\\n",
       "0                  Jalsa        Casual Dining       Buffet   \n",
       "1         Spice Elephant        Casual Dining       Buffet   \n",
       "2        San Churro Cafe  Cafe, Casual Dining       Buffet   \n",
       "3  Addhuri Udupi Bhojana          Quick Bites       Buffet   \n",
       "4          Grand Village        Casual Dining       Buffet   \n",
       "\n",
       "                     cuisine_type  cost_for_two book_table online_order  \\\n",
       "0  North Indian, Mughlai, Chinese         800.0        Yes          Yes   \n",
       "1     Chinese, North Indian, Thai         800.0         No          Yes   \n",
       "2          Cafe, Mexican, Italian         800.0         No          Yes   \n",
       "3      South Indian, North Indian         300.0         No           No   \n",
       "4        North Indian, Rajasthani         600.0         No           No   \n",
       "\n",
       "   rating  votes      location  \\\n",
       "0     4.1    775  Banashankari   \n",
       "1     4.1    787  Banashankari   \n",
       "2     3.8    918  Banashankari   \n",
       "3     3.7     88  Banashankari   \n",
       "4     3.8    166  Basavanagudi   \n",
       "\n",
       "                                             address  \n",
       "0  942, 21st Main Road, 2nd Stage, Banashankari, ...  \n",
       "1  2nd Floor, 80 Feet Road, Near Big Bazaar, 6th ...  \n",
       "2  1112, Next to KIMS Medical College, 17th Cross...  \n",
       "3  1st Floor, Annakuteera, 3rd Stage, Banashankar...  \n",
       "4  10, 3rd Floor, Lakshmi Associates, Gandhi Baza...  "
      ]
     },
     "execution_count": 23,
     "metadata": {},
     "output_type": "execute_result"
    }
   ],
   "source": [
    "df.head()"
   ]
  },
  {
   "cell_type": "code",
   "execution_count": 24,
   "id": "38de5123",
   "metadata": {},
   "outputs": [
    {
     "data": {
      "image/png": "[encoded data removed]",
      "text/plain": [
       "<Figure size 720x504 with 1 Axes>"
      ]
     },
     "metadata": {},
     "output_type": "display_data"
    }
   ],
   "source": [
    "plt.figure(figsize = (10,7))\n",
    "\n",
    "sns.countplot(data = df,\n",
    "              x = df[\"online_order\"],\n",
    "              palette = \"viridis\")\n",
    "\n",
    "plt.title(\"Does Bangalore Restaurants let you order online?\", fontsize = 16)\n",
    "plt.xlabel(\"Online Order\", fontsize = 12)\n",
    "plt.ylabel(\"Count\", fontsize = 12);\n",
    "              "
   ]
  },
  {
   "cell_type": "code",
   "execution_count": 25,
   "id": "f40e4172",
   "metadata": {},
   "outputs": [
    {
     "data": {
      "text/html": [
       "<div>\n",
       "<style scoped>\n",
       "    .dataframe tbody tr th:only-of-type {\n",
       "        vertical-align: middle;\n",
       "    }\n",
       "\n",
       "    .dataframe tbody tr th {\n",
       "        vertical-align: top;\n",
       "    }\n",
       "\n",
       "    .dataframe thead th {\n",
       "        text-align: right;\n",
       "    }\n",
       "</style>\n",
       "<table border=\"1\" class=\"dataframe\">\n",
       "  <thead>\n",
       "    <tr style=\"text-align: right;\">\n",
       "      <th></th>\n",
       "      <th>Table Bookings</th>\n",
       "      <th>% of Restaurants</th>\n",
       "    </tr>\n",
       "  </thead>\n",
       "  <tbody>\n",
       "    <tr>\n",
       "      <th>0</th>\n",
       "      <td>Yes</td>\n",
       "      <td>17.919153</td>\n",
       "    </tr>\n",
       "    <tr>\n",
       "      <th>1</th>\n",
       "      <td>No</td>\n",
       "      <td>82.080847</td>\n",
       "    </tr>\n",
       "  </tbody>\n",
       "</table>\n",
       "</div>"
      ],
      "text/plain": [
       "  Table Bookings  % of Restaurants\n",
       "0            Yes         17.919153\n",
       "1             No         82.080847"
      ]
     },
     "execution_count": 25,
     "metadata": {},
     "output_type": "execute_result"
    }
   ],
   "source": [
    "#Creating a DataFrame\n",
    "\n",
    "table_bookings = pd.DataFrame(df[\"book_table\"].value_counts(ascending = True) * 100 / df[\"book_table\"].count()).reset_index()\n",
    "\n",
    "table_bookings.rename(columns = {\"index\": \"Table Bookings\",\n",
    "                                 \"book_table\": \"% of Restaurants\"},\n",
    "                      inplace = True)\n",
    "\n",
    "table_bookings"
   ]
  },
  {
   "cell_type": "code",
   "execution_count": 26,
   "id": "bd917176",
   "metadata": {},
   "outputs": [
    {
     "data": {
      "image/png": "[encoded data removed]",
      "text/plain": [
       "<Figure size 720x504 with 1 Axes>"
      ]
     },
     "metadata": {},
     "output_type": "display_data"
    }
   ],
   "source": [
    "plt.figure(figsize = (10,7))\n",
    "\n",
    "sns.countplot(data = df,\n",
    "              x = df[\"book_table\"],\n",
    "              palette = \"viridis\")\n",
    "\n",
    "plt.title(\"Does Bangalore Restaurants let you book tables in advance?\", fontsize = 16)\n",
    "plt.xlabel(\"Online Order\", fontsize = 12)\n",
    "plt.ylabel(\"Count\", fontsize = 12);"
   ]
  },
  {
   "cell_type": "code",
   "execution_count": 27,
   "id": "1845dd02",
   "metadata": {
    "scrolled": false
   },
   "outputs": [
    {
     "data": {
      "image/png": "[encoded data removed]",
      "text/plain": [
       "<Figure size 1152x576 with 2 Axes>"
      ]
     },
     "metadata": {},
     "output_type": "display_data"
    }
   ],
   "source": [
    "#Visualizing both \"Online orders\" and \"Table Bookings\" in a Piechart\n",
    "\n",
    "fig, (ax1, ax2) = plt.subplots(figsize = (16,8),\n",
    "                               nrows = 1, \n",
    "                               ncols = 2)\n",
    "\n",
    "ax1.pie(online_orders[\"% of Restaurants\"],\n",
    "        autopct=\"%1.1f%%\",\n",
    "        labels = online_orders[\"Online Orders\"].values,\n",
    "        shadow = True,\n",
    "        colors = ['#ffff66','#ff5050'],\n",
    "        explode=(0, 0.05),\n",
    "        textprops = {\"size\": \"xx-large\"})\n",
    "ax1.set_title(\"% of Restaurants with online orders avaiable\", fontsize = 14)\n",
    "\n",
    "\n",
    "ax2.pie(table_bookings[\"% of Restaurants\"],\n",
    "        autopct=\"%1.1f%%\",\n",
    "        labels = table_bookings[\"Table Bookings\"].values,\n",
    "        shadow = True,\n",
    "        colors = ['#ffff66','#ff5050'], \n",
    "        explode=(0.1, 0),\n",
    "        textprops = {\"size\": \"xx-large\"})\n",
    "ax2.set_title(\"% of Restaurants that allow table bookings\", fontsize = 14);"
   ]
  },
  {
   "cell_type": "markdown",
   "id": "39311268",
   "metadata": {},
   "source": [
    "#### Answer:\n",
    "\n",
    "* 64% of the Bangalore Restaurants let you order online, while 36% don't. \n",
    "* On the flip side, only 17,4% of the Restaurants in Bangalore allow for table bookings, while the vast majority (82,6%) don't."
   ]
  },
  {
   "cell_type": "markdown",
   "id": "a60869b2",
   "metadata": {},
   "source": [
    "####  2.5. What are the most voted restaurants in Bangalore?"
   ]
  },
  {
   "cell_type": "code",
   "execution_count": 28,
   "id": "340526a1",
   "metadata": {
    "scrolled": true
   },
   "outputs": [
    {
     "data": {
      "text/html": [
       "<div>\n",
       "<style scoped>\n",
       "    .dataframe tbody tr th:only-of-type {\n",
       "        vertical-align: middle;\n",
       "    }\n",
       "\n",
       "    .dataframe tbody tr th {\n",
       "        vertical-align: top;\n",
       "    }\n",
       "\n",
       "    .dataframe thead th {\n",
       "        text-align: right;\n",
       "    }\n",
       "</style>\n",
       "<table border=\"1\" class=\"dataframe\">\n",
       "  <thead>\n",
       "    <tr style=\"text-align: right;\">\n",
       "      <th></th>\n",
       "      <th>Restaurant Name</th>\n",
       "      <th>Number of Votes</th>\n",
       "    </tr>\n",
       "  </thead>\n",
       "  <tbody>\n",
       "    <tr>\n",
       "      <th>0</th>\n",
       "      <td>Byg Brewski Brewing Company</td>\n",
       "      <td>16832</td>\n",
       "    </tr>\n",
       "    <tr>\n",
       "      <th>1</th>\n",
       "      <td>Toit</td>\n",
       "      <td>14956</td>\n",
       "    </tr>\n",
       "    <tr>\n",
       "      <th>2</th>\n",
       "      <td>Truffles</td>\n",
       "      <td>14726</td>\n",
       "    </tr>\n",
       "    <tr>\n",
       "      <th>3</th>\n",
       "      <td>AB's - Absolute Barbecues</td>\n",
       "      <td>12121</td>\n",
       "    </tr>\n",
       "    <tr>\n",
       "      <th>4</th>\n",
       "      <td>The Black Pearl</td>\n",
       "      <td>10550</td>\n",
       "    </tr>\n",
       "    <tr>\n",
       "      <th>5</th>\n",
       "      <td>Big Pitcher</td>\n",
       "      <td>9300</td>\n",
       "    </tr>\n",
       "    <tr>\n",
       "      <th>6</th>\n",
       "      <td>Onesta</td>\n",
       "      <td>9085</td>\n",
       "    </tr>\n",
       "    <tr>\n",
       "      <th>7</th>\n",
       "      <td>Arbor Brewing Company</td>\n",
       "      <td>8419</td>\n",
       "    </tr>\n",
       "    <tr>\n",
       "      <th>8</th>\n",
       "      <td>Empire Restaurant</td>\n",
       "      <td>8304</td>\n",
       "    </tr>\n",
       "    <tr>\n",
       "      <th>9</th>\n",
       "      <td>Prost Brew Pub</td>\n",
       "      <td>7871</td>\n",
       "    </tr>\n",
       "  </tbody>\n",
       "</table>\n",
       "</div>"
      ],
      "text/plain": [
       "               Restaurant Name  Number of Votes\n",
       "0  Byg Brewski Brewing Company            16832\n",
       "1                         Toit            14956\n",
       "2                     Truffles            14726\n",
       "3    AB's - Absolute Barbecues            12121\n",
       "4              The Black Pearl            10550\n",
       "5                  Big Pitcher             9300\n",
       "6                       Onesta             9085\n",
       "7        Arbor Brewing Company             8419\n",
       "8            Empire Restaurant             8304\n",
       "9               Prost Brew Pub             7871"
      ]
     },
     "execution_count": 28,
     "metadata": {},
     "output_type": "execute_result"
    }
   ],
   "source": [
    "#Creating a DataFrame\n",
    "\n",
    "most_voted = pd.DataFrame(df.groupby(by = \"rest_name\")[\"votes\"].max().sort_values(ascending = False).reset_index())[:10]\n",
    "\n",
    "most_voted.rename(columns = {\"rest_name\": \"Restaurant Name\",\n",
    "                             \"votes\": \"Number of Votes\"},\n",
    "                  inplace = True)\n",
    "\n",
    "most_voted"
   ]
  },
  {
   "cell_type": "code",
   "execution_count": 29,
   "id": "7f47df8c",
   "metadata": {},
   "outputs": [
    {
     "data": {
      "image/png": "[encoded data removed]",
      "text/plain": [
       "<Figure size 864x576 with 1 Axes>"
      ]
     },
     "metadata": {},
     "output_type": "display_data"
    }
   ],
   "source": [
    "#Visualizing the data\n",
    "\n",
    "plt.figure(figsize = (12,8))\n",
    "\n",
    "sns.barplot(data = most_voted,\n",
    "            x = \"Number of Votes\", \n",
    "            y = \"Restaurant Name\",\n",
    "            color = \"lightblue\")\n",
    "\n",
    "plt.title(\"Top 10 Most Voted Restaurants\", fontsize = 15)\n",
    "mostvoted_meanline = plt.axvline(df[\"votes\"].mean(), ls = \"--\", color = \"red\")\n",
    "plt.ylabel(None);"
   ]
  },
  {
   "cell_type": "markdown",
   "id": "2adc74d9",
   "metadata": {},
   "source": [
    "#### Answer:\n",
    "\n",
    "* Byg Brewski Brewing Company, Toit, Truffles and Absolute Barbecues are the most voted Restaurants in Bangalore, regarding Zomato platform. Every single restaurant mencioned has more than 12000 votes on Zomato."
   ]
  },
  {
   "cell_type": "markdown",
   "id": "d97f646f",
   "metadata": {},
   "source": [
    "#### 2.6. What is the rating distribution for the restaurants in Bangalore?"
   ]
  },
  {
   "cell_type": "code",
   "execution_count": 30,
   "id": "2a93adce",
   "metadata": {
    "scrolled": false
   },
   "outputs": [
    {
     "data": {
      "image/png": "[encoded data removed]",
      "text/plain": [
       "<Figure size 1008x648 with 1 Axes>"
      ]
     },
     "metadata": {},
     "output_type": "display_data"
    }
   ],
   "source": [
    "#Creating an histogram with the average rating distribution\n",
    "\n",
    "plt.figure(figsize = (14,9))\n",
    "\n",
    "sns.histplot(data = df[\"rating\"],\n",
    "             bins = 15,\n",
    "             color = \"lightgreen\")\n",
    "\n",
    "plt.title(\"Average Rating Distribution\", fontsize = 18)\n",
    "plt.xticks(np.arange(1.5,5,0.1))\n",
    "plt.axvline(df[\"rating\"].mean(), ls = \"--\", color = \"blue\")\n",
    "plt.xlabel(None)\n",
    "plt.ylabel(\"Frequency\", fontsize = 12);"
   ]
  },
  {
   "cell_type": "markdown",
   "id": "8b530517",
   "metadata": {},
   "source": [
    "#### Answer:\n",
    "\n",
    "* The vast majority of the ratings given by reviewers range between 3.3 and 4.3 (on a scale of 1-5).\n",
    "\n",
    "\n",
    "\n",
    "* There are very few reviews below 3.0 rating and above 4.7."
   ]
  },
  {
   "cell_type": "markdown",
   "id": "82310188",
   "metadata": {},
   "source": [
    "#### 2.7. What are the highest rated restaurants in Bangalore (by average rating)?"
   ]
  },
  {
   "cell_type": "code",
   "execution_count": 31,
   "id": "08ace6f1",
   "metadata": {},
   "outputs": [],
   "source": [
    "#Creating a DataFrame\n",
    "\n",
    "highest_rated = pd.DataFrame(df.groupby(by = \"rest_name\")[\"rating\"].max().sort_values(ascending = False)[:10]).reset_index()\n",
    "\n",
    "highest_rated.rename(columns = {\"rest_name\": \"Restaurant Name\",\n",
    "                                \"rating\": \"Rating\"},\n",
    "                     inplace = True)\n",
    "\n",
    "highest_rated.replace('SantÃ\\x83Â\\x83Ã\\x82Â\\x83Ã\\x83Â\\x82Ã\\x82Â\\x83Ã\\x83Â\\x83Ã\\x82Â\\x82Ã\\x83Â\\x82Ã\\x82Â\\x83Ã\\x83Â\\x83Ã\\x82Â\\x83Ã\\x83Â\\x82Ã\\x82Â\\x82Ã\\x83Â\\x83Ã\\x82Â\\x82Ã\\x83Â\\x82Ã\\x82Â© Spa Cuisine',\n",
    "                      \"Spa Cuisine\",   inplace = True)\n"
   ]
  },
  {
   "cell_type": "code",
   "execution_count": 32,
   "id": "909b8a53",
   "metadata": {},
   "outputs": [
    {
     "data": {
      "image/png": "[encoded data removed]",
      "text/plain": [
       "<Figure size 1152x576 with 1 Axes>"
      ]
     },
     "metadata": {},
     "output_type": "display_data"
    }
   ],
   "source": [
    "#Visualizing the data\n",
    "\n",
    "plt.figure(figsize = (16,8))\n",
    "\n",
    "sns.barplot(data = highest_rated,\n",
    "            x = \"Restaurant Name\",\n",
    "            y = \"Rating\",\n",
    "            color = \"lightgreen\")\n",
    "\n",
    "plt.title(\"Highest Rated Restaurants in Bangalore\", fontsize = 15)\n",
    "plt.xticks(rotation = 25)\n",
    "plt.xlabel(None)\n",
    "plt.axhline(df[\"rating\"].mean(),\n",
    "            ls = \"--\")\n",
    "plt.ylim(3,5);"
   ]
  },
  {
   "cell_type": "markdown",
   "id": "a30a77fd",
   "metadata": {},
   "source": [
    "#### Answer:\n",
    "\n",
    "* There are 8 restaurants in Bangalore that have an average rating of 4.9 (near the maximum rating of 5) in Zomato platform."
   ]
  },
  {
   "cell_type": "markdown",
   "id": "727006de",
   "metadata": {},
   "source": [
    "#### 2.8. What is the approximate cost (for two people) in Bangalore restaurants?"
   ]
  },
  {
   "cell_type": "code",
   "execution_count": 33,
   "id": "682196d8",
   "metadata": {},
   "outputs": [
    {
     "data": {
      "text/plain": [
       "1.0"
      ]
     },
     "execution_count": 33,
     "metadata": {},
     "output_type": "execute_result"
    }
   ],
   "source": [
    "#Cheapest Restaurant\n",
    "\n",
    "df[\"cost_for_two\"].min()"
   ]
  },
  {
   "cell_type": "code",
   "execution_count": 34,
   "id": "5d2908f5",
   "metadata": {},
   "outputs": [
    {
     "data": {
      "text/plain": [
       "950.0"
      ]
     },
     "execution_count": 34,
     "metadata": {},
     "output_type": "execute_result"
    }
   ],
   "source": [
    "#Most Expensive Restaurant\n",
    "\n",
    "df[\"cost_for_two\"].max()"
   ]
  },
  {
   "cell_type": "code",
   "execution_count": 35,
   "id": "988a557e",
   "metadata": {},
   "outputs": [
    {
     "data": {
      "image/png": "[encoded data removed]",
      "text/plain": [
       "<Figure size 1008x648 with 1 Axes>"
      ]
     },
     "metadata": {},
     "output_type": "display_data"
    }
   ],
   "source": [
    "#Creating an histogram with the approximate cost distribution\n",
    "\n",
    "plt.figure(figsize = (14,9))\n",
    "\n",
    "sns.histplot(df[\"cost_for_two\"],\n",
    "             bins = 10,\n",
    "             color = \"lightblue\")\n",
    "\n",
    "plt.title(\"Approximate Cost for Two People in Bangalore Restaurants\", fontsize = 15)\n",
    "plt.xticks(np.arange(0,1000,50))\n",
    "plt.axvline(df[\"cost_for_two\"].mean(), ls = \"--\", color = \"red\")\n",
    "plt.xlabel(\"Approximate Cost for Two People\", fontsize = 12)\n",
    "plt.ylabel(\"Frequency\", fontsize = 12);"
   ]
  },
  {
   "cell_type": "markdown",
   "id": "4b9bc7f8",
   "metadata": {},
   "source": [
    "#### Answer:\n",
    "\n",
    "* The average cost for Bangalore restaurants varies by a considerable margin.\n",
    "\n",
    "\n",
    "\n",
    "* There are a lot of restaurants that are very cheap (below 150 rupees per person) and also a lot on a mid-range price-point.\n",
    "\n",
    "\n",
    "\n",
    "* However, there are also a considerable amount of quite expensive ones (over 300 rupees per person)."
   ]
  },
  {
   "cell_type": "markdown",
   "id": "db24eeb5",
   "metadata": {},
   "source": [
    "#### 2.9. What are the most expensive restaurants in Bangalore?"
   ]
  },
  {
   "cell_type": "code",
   "execution_count": 36,
   "id": "e49aa71a",
   "metadata": {},
   "outputs": [
    {
     "data": {
      "text/html": [
       "<div>\n",
       "<style scoped>\n",
       "    .dataframe tbody tr th:only-of-type {\n",
       "        vertical-align: middle;\n",
       "    }\n",
       "\n",
       "    .dataframe tbody tr th {\n",
       "        vertical-align: top;\n",
       "    }\n",
       "\n",
       "    .dataframe thead th {\n",
       "        text-align: right;\n",
       "    }\n",
       "</style>\n",
       "<table border=\"1\" class=\"dataframe\">\n",
       "  <thead>\n",
       "    <tr style=\"text-align: right;\">\n",
       "      <th></th>\n",
       "      <th>rest_name</th>\n",
       "      <th>cost_for_two</th>\n",
       "    </tr>\n",
       "  </thead>\n",
       "  <tbody>\n",
       "    <tr>\n",
       "      <th>0</th>\n",
       "      <td>Engine</td>\n",
       "      <td>950.0</td>\n",
       "    </tr>\n",
       "    <tr>\n",
       "      <th>1</th>\n",
       "      <td>The Onyx - The HHI Select Bengaluru</td>\n",
       "      <td>950.0</td>\n",
       "    </tr>\n",
       "    <tr>\n",
       "      <th>2</th>\n",
       "      <td>Inchara</td>\n",
       "      <td>950.0</td>\n",
       "    </tr>\n",
       "    <tr>\n",
       "      <th>3</th>\n",
       "      <td>Bathinda Dine</td>\n",
       "      <td>950.0</td>\n",
       "    </tr>\n",
       "    <tr>\n",
       "      <th>4</th>\n",
       "      <td>1947</td>\n",
       "      <td>950.0</td>\n",
       "    </tr>\n",
       "    <tr>\n",
       "      <th>5</th>\n",
       "      <td>Ayda Persian Kitchen</td>\n",
       "      <td>950.0</td>\n",
       "    </tr>\n",
       "    <tr>\n",
       "      <th>6</th>\n",
       "      <td>Caffe Pascucci</td>\n",
       "      <td>950.0</td>\n",
       "    </tr>\n",
       "    <tr>\n",
       "      <th>7</th>\n",
       "      <td>Hotel Ivy Dew Drops</td>\n",
       "      <td>900.0</td>\n",
       "    </tr>\n",
       "    <tr>\n",
       "      <th>8</th>\n",
       "      <td>Basmati Restaurant</td>\n",
       "      <td>900.0</td>\n",
       "    </tr>\n",
       "    <tr>\n",
       "      <th>9</th>\n",
       "      <td>Breezes - Hotel Pigeon International</td>\n",
       "      <td>900.0</td>\n",
       "    </tr>\n",
       "  </tbody>\n",
       "</table>\n",
       "</div>"
      ],
      "text/plain": [
       "                              rest_name  cost_for_two\n",
       "0                                Engine         950.0\n",
       "1   The Onyx - The HHI Select Bengaluru         950.0\n",
       "2                               Inchara         950.0\n",
       "3                         Bathinda Dine         950.0\n",
       "4                                  1947         950.0\n",
       "5                  Ayda Persian Kitchen         950.0\n",
       "6                        Caffe Pascucci         950.0\n",
       "7                   Hotel Ivy Dew Drops         900.0\n",
       "8                    Basmati Restaurant         900.0\n",
       "9  Breezes - Hotel Pigeon International         900.0"
      ]
     },
     "execution_count": 36,
     "metadata": {},
     "output_type": "execute_result"
    }
   ],
   "source": [
    "#Creating a DataFrame\n",
    "\n",
    "most_expensive = df.groupby(by = \"rest_name\")[\"cost_for_two\"].max().sort_values(ascending = False).reset_index()[:10]\n",
    "\n",
    "most_expensive"
   ]
  },
  {
   "cell_type": "code",
   "execution_count": 37,
   "id": "5b6b5baa",
   "metadata": {},
   "outputs": [
    {
     "data": {
      "image/png": "[encoded data removed]",
      "text/plain": [
       "<Figure size 1152x576 with 1 Axes>"
      ]
     },
     "metadata": {},
     "output_type": "display_data"
    }
   ],
   "source": [
    "#Visualizing the data\n",
    "\n",
    "plt.figure(figsize = (16,8))\n",
    "\n",
    "sns.barplot(data = most_expensive,\n",
    "            x = \"rest_name\",\n",
    "            y = \"cost_for_two\",\n",
    "            color = \"lightgreen\")\n",
    "\n",
    "plt.title(\"Top 10 Most Expensive Restaurants in Bangalore\", fontsize = 15)\n",
    "plt.xticks(rotation = 25)\n",
    "plt.ylim(300,1000)\n",
    "plt.axhline(df[\"cost_for_two\"].mean(), ls = \"--\", color = \"red\")\n",
    "plt.xlabel(None)\n",
    "plt.ylabel(\"Approximate Cost for two people\");"
   ]
  },
  {
   "cell_type": "markdown",
   "id": "074dbe88",
   "metadata": {},
   "source": [
    "#### Answer:\n",
    "\n",
    "* There are 8 restaurants that charge approximately 950 rupees for two persons, making them the top 8 most expensive restaurants in Bangalore."
   ]
  },
  {
   "cell_type": "markdown",
   "id": "7ddabdbf",
   "metadata": {},
   "source": [
    "## 3. Data Preprocessing"
   ]
  },
  {
   "cell_type": "code",
   "execution_count": 38,
   "id": "05c4e238",
   "metadata": {},
   "outputs": [],
   "source": [
    "#Converting strings to pandas categories\n",
    "\n",
    "for label,content in df.items():\n",
    "    if pd.api.types.is_string_dtype(content):\n",
    "        df[label] = content.astype(\"category\").cat.as_ordered()\n"
   ]
  },
  {
   "cell_type": "code",
   "execution_count": 39,
   "id": "00b54a3a",
   "metadata": {},
   "outputs": [
    {
     "name": "stdout",
     "output_type": "stream",
     "text": [
      "rest_name\n",
      "rest_type\n",
      "service_type\n",
      "cuisine_type\n",
      "book_table\n",
      "online_order\n",
      "location\n",
      "address\n"
     ]
    }
   ],
   "source": [
    "#Checking for columns that aren't integers or floats\n",
    "\n",
    "for label,content in df.items():\n",
    "    if not pd.api.types.is_numeric_dtype(content):\n",
    "        print(label)"
   ]
  },
  {
   "cell_type": "code",
   "execution_count": 40,
   "id": "b37f51a3",
   "metadata": {},
   "outputs": [],
   "source": [
    "#Converting cateogrical variables into numbers\n",
    "\n",
    "for label, content in df.items():\n",
    "    if not pd.api.types.is_numeric_dtype(content):\n",
    "        df[label] = pd.Categorical(content).codes+1"
   ]
  },
  {
   "cell_type": "markdown",
   "id": "3659225e",
   "metadata": {},
   "source": [
    "## 4. Correlation Matrix"
   ]
  },
  {
   "cell_type": "code",
   "execution_count": 41,
   "id": "153b095f",
   "metadata": {},
   "outputs": [
    {
     "data": {
      "image/png": "[encoded data removed]",
      "text/plain": [
       "<Figure size 1152x864 with 2 Axes>"
      ]
     },
     "metadata": {},
     "output_type": "display_data"
    }
   ],
   "source": [
    "#Checking the correlation between variables with a Correlation Matrix\n",
    "\n",
    "plt.figure(figsize = (16,12))\n",
    "\n",
    "sns.heatmap(df.corr(),\n",
    "            annot = True,\n",
    "            cmap = \"viridis\",\n",
    "            linewidths = 1,\n",
    "            linecolor = \"white\")\n",
    "\n",
    "plt.title(\"Correlation Matrix\", fontsize = 18);"
   ]
  },
  {
   "cell_type": "code",
   "execution_count": 42,
   "id": "eb20fda8",
   "metadata": {},
   "outputs": [
    {
     "data": {
      "text/plain": [
       "rating          1.000000\n",
       "votes           0.449234\n",
       "book_table      0.446348\n",
       "location        0.067297\n",
       "online_order    0.056148\n",
       "service_type    0.033442\n",
       "rest_name       0.014660\n",
       "address        -0.052582\n",
       "cuisine_type   -0.090043\n",
       "cost_for_two   -0.144843\n",
       "rest_type      -0.230524\n",
       "Name: rating, dtype: float64"
      ]
     },
     "execution_count": 42,
     "metadata": {},
     "output_type": "execute_result"
    }
   ],
   "source": [
    "#Printing the correlation between the target variable (rating) and the others\n",
    "\n",
    "rating_corr = df.corr()[\"rating\"].sort_values(ascending = False)\n",
    "\n",
    "rating_corr"
   ]
  },
  {
   "cell_type": "markdown",
   "id": "1d252cef",
   "metadata": {},
   "source": [
    "#### Correlation matrix insights:\n",
    "\n",
    "* There isn't a lot of correlation between variables, since the strongest correlation we can find between two variable is 0.45\n",
    "\n",
    "\n",
    "\n",
    "* The target variable (rating) is positively correlated to some level with the ability to book tables and the number of votes for the given restaurant."
   ]
  },
  {
   "cell_type": "markdown",
   "id": "a9f95abc",
   "metadata": {},
   "source": [
    "## 5. Modelling"
   ]
  },
  {
   "cell_type": "code",
   "execution_count": 43,
   "id": "049c88b1",
   "metadata": {},
   "outputs": [
    {
     "data": {
      "text/html": [
       "<div>\n",
       "<style scoped>\n",
       "    .dataframe tbody tr th:only-of-type {\n",
       "        vertical-align: middle;\n",
       "    }\n",
       "\n",
       "    .dataframe tbody tr th {\n",
       "        vertical-align: top;\n",
       "    }\n",
       "\n",
       "    .dataframe thead th {\n",
       "        text-align: right;\n",
       "    }\n",
       "</style>\n",
       "<table border=\"1\" class=\"dataframe\">\n",
       "  <thead>\n",
       "    <tr style=\"text-align: right;\">\n",
       "      <th></th>\n",
       "      <th>rest_name</th>\n",
       "      <th>rest_type</th>\n",
       "      <th>service_type</th>\n",
       "      <th>cuisine_type</th>\n",
       "      <th>cost_for_two</th>\n",
       "      <th>book_table</th>\n",
       "      <th>online_order</th>\n",
       "      <th>rating</th>\n",
       "      <th>votes</th>\n",
       "      <th>location</th>\n",
       "      <th>address</th>\n",
       "    </tr>\n",
       "  </thead>\n",
       "  <tbody>\n",
       "    <tr>\n",
       "      <th>0</th>\n",
       "      <td>2778</td>\n",
       "      <td>25</td>\n",
       "      <td>1</td>\n",
       "      <td>1895</td>\n",
       "      <td>800.0</td>\n",
       "      <td>2</td>\n",
       "      <td>2</td>\n",
       "      <td>4.1</td>\n",
       "      <td>775</td>\n",
       "      <td>2</td>\n",
       "      <td>6264</td>\n",
       "    </tr>\n",
       "    <tr>\n",
       "      <th>1</th>\n",
       "      <td>5273</td>\n",
       "      <td>25</td>\n",
       "      <td>1</td>\n",
       "      <td>817</td>\n",
       "      <td>800.0</td>\n",
       "      <td>1</td>\n",
       "      <td>2</td>\n",
       "      <td>4.1</td>\n",
       "      <td>787</td>\n",
       "      <td>2</td>\n",
       "      <td>3005</td>\n",
       "    </tr>\n",
       "    <tr>\n",
       "      <th>2</th>\n",
       "      <td>4883</td>\n",
       "      <td>20</td>\n",
       "      <td>1</td>\n",
       "      <td>654</td>\n",
       "      <td>800.0</td>\n",
       "      <td>1</td>\n",
       "      <td>2</td>\n",
       "      <td>3.8</td>\n",
       "      <td>918</td>\n",
       "      <td>2</td>\n",
       "      <td>615</td>\n",
       "    </tr>\n",
       "    <tr>\n",
       "      <th>3</th>\n",
       "      <td>140</td>\n",
       "      <td>74</td>\n",
       "      <td>1</td>\n",
       "      <td>2222</td>\n",
       "      <td>300.0</td>\n",
       "      <td>1</td>\n",
       "      <td>1</td>\n",
       "      <td>3.7</td>\n",
       "      <td>88</td>\n",
       "      <td>2</td>\n",
       "      <td>1965</td>\n",
       "    </tr>\n",
       "    <tr>\n",
       "      <th>4</th>\n",
       "      <td>2248</td>\n",
       "      <td>25</td>\n",
       "      <td>1</td>\n",
       "      <td>1922</td>\n",
       "      <td>600.0</td>\n",
       "      <td>1</td>\n",
       "      <td>1</td>\n",
       "      <td>3.8</td>\n",
       "      <td>166</td>\n",
       "      <td>5</td>\n",
       "      <td>275</td>\n",
       "    </tr>\n",
       "  </tbody>\n",
       "</table>\n",
       "</div>"
      ],
      "text/plain": [
       "   rest_name  rest_type  service_type  cuisine_type  cost_for_two  book_table  \\\n",
       "0       2778         25             1          1895         800.0           2   \n",
       "1       5273         25             1           817         800.0           1   \n",
       "2       4883         20             1           654         800.0           1   \n",
       "3        140         74             1          2222         300.0           1   \n",
       "4       2248         25             1          1922         600.0           1   \n",
       "\n",
       "   online_order  rating  votes  location  address  \n",
       "0             2     4.1    775         2     6264  \n",
       "1             2     4.1    787         2     3005  \n",
       "2             2     3.8    918         2      615  \n",
       "3             1     3.7     88         2     1965  \n",
       "4             1     3.8    166         5      275  "
      ]
     },
     "execution_count": 43,
     "metadata": {},
     "output_type": "execute_result"
    }
   ],
   "source": [
    "df.head()"
   ]
  },
  {
   "cell_type": "code",
   "execution_count": 44,
   "id": "7b9dfd27",
   "metadata": {},
   "outputs": [],
   "source": [
    "#Creating X (features) & Y(target-variable)\n",
    "\n",
    "X = df.drop(columns = \"rating\")\n",
    "\n",
    "y = df[\"rating\"]"
   ]
  },
  {
   "cell_type": "code",
   "execution_count": 45,
   "id": "401057a6",
   "metadata": {},
   "outputs": [],
   "source": [
    "#Splitting the data into training and test sets\n",
    "\n",
    "X_train, X_test, y_train, y_test = train_test_split(X, y,\n",
    "                                                    test_size = 0.2,\n",
    "                                                    random_state = 45)"
   ]
  },
  {
   "cell_type": "markdown",
   "id": "bdb05e45",
   "metadata": {},
   "source": [
    "### 5.1. Linear Regression Model"
   ]
  },
  {
   "cell_type": "code",
   "execution_count": 46,
   "id": "7feab71c",
   "metadata": {},
   "outputs": [],
   "source": [
    "#Instantiate the model\n",
    "\n",
    "lr = LinearRegression()\n",
    "\n",
    "#Fit the model into the data\n",
    "\n",
    "lr.fit(X_train, y_train)\n",
    "\n",
    "#Making predictions\n",
    "\n",
    "lr_preds = lr.predict(X_test)\n"
   ]
  },
  {
   "cell_type": "code",
   "execution_count": 47,
   "id": "ba891d80",
   "metadata": {},
   "outputs": [
    {
     "data": {
      "text/html": [
       "<div>\n",
       "<style scoped>\n",
       "    .dataframe tbody tr th:only-of-type {\n",
       "        vertical-align: middle;\n",
       "    }\n",
       "\n",
       "    .dataframe tbody tr th {\n",
       "        vertical-align: top;\n",
       "    }\n",
       "\n",
       "    .dataframe thead th {\n",
       "        text-align: right;\n",
       "    }\n",
       "</style>\n",
       "<table border=\"1\" class=\"dataframe\">\n",
       "  <thead>\n",
       "    <tr style=\"text-align: right;\">\n",
       "      <th></th>\n",
       "      <th>Real Values</th>\n",
       "      <th>Predicted Values</th>\n",
       "    </tr>\n",
       "  </thead>\n",
       "  <tbody>\n",
       "    <tr>\n",
       "      <th>0</th>\n",
       "      <td>3.5</td>\n",
       "      <td>3.588545</td>\n",
       "    </tr>\n",
       "    <tr>\n",
       "      <th>1</th>\n",
       "      <td>3.1</td>\n",
       "      <td>3.659482</td>\n",
       "    </tr>\n",
       "    <tr>\n",
       "      <th>2</th>\n",
       "      <td>3.7</td>\n",
       "      <td>3.592631</td>\n",
       "    </tr>\n",
       "    <tr>\n",
       "      <th>3</th>\n",
       "      <td>3.7</td>\n",
       "      <td>3.528897</td>\n",
       "    </tr>\n",
       "    <tr>\n",
       "      <th>4</th>\n",
       "      <td>4.7</td>\n",
       "      <td>5.173242</td>\n",
       "    </tr>\n",
       "    <tr>\n",
       "      <th>5</th>\n",
       "      <td>2.9</td>\n",
       "      <td>3.607780</td>\n",
       "    </tr>\n",
       "    <tr>\n",
       "      <th>6</th>\n",
       "      <td>4.1</td>\n",
       "      <td>3.612485</td>\n",
       "    </tr>\n",
       "    <tr>\n",
       "      <th>7</th>\n",
       "      <td>3.5</td>\n",
       "      <td>3.544641</td>\n",
       "    </tr>\n",
       "    <tr>\n",
       "      <th>8</th>\n",
       "      <td>3.5</td>\n",
       "      <td>3.446283</td>\n",
       "    </tr>\n",
       "    <tr>\n",
       "      <th>9</th>\n",
       "      <td>2.9</td>\n",
       "      <td>3.591258</td>\n",
       "    </tr>\n",
       "    <tr>\n",
       "      <th>10</th>\n",
       "      <td>4.2</td>\n",
       "      <td>3.740081</td>\n",
       "    </tr>\n",
       "    <tr>\n",
       "      <th>11</th>\n",
       "      <td>3.9</td>\n",
       "      <td>3.517331</td>\n",
       "    </tr>\n",
       "    <tr>\n",
       "      <th>12</th>\n",
       "      <td>4.0</td>\n",
       "      <td>3.632387</td>\n",
       "    </tr>\n",
       "    <tr>\n",
       "      <th>13</th>\n",
       "      <td>3.3</td>\n",
       "      <td>3.563311</td>\n",
       "    </tr>\n",
       "    <tr>\n",
       "      <th>14</th>\n",
       "      <td>4.0</td>\n",
       "      <td>3.477655</td>\n",
       "    </tr>\n",
       "    <tr>\n",
       "      <th>15</th>\n",
       "      <td>3.7</td>\n",
       "      <td>3.890802</td>\n",
       "    </tr>\n",
       "    <tr>\n",
       "      <th>16</th>\n",
       "      <td>3.2</td>\n",
       "      <td>3.488948</td>\n",
       "    </tr>\n",
       "    <tr>\n",
       "      <th>17</th>\n",
       "      <td>3.3</td>\n",
       "      <td>3.561152</td>\n",
       "    </tr>\n",
       "    <tr>\n",
       "      <th>18</th>\n",
       "      <td>4.3</td>\n",
       "      <td>3.698742</td>\n",
       "    </tr>\n",
       "    <tr>\n",
       "      <th>19</th>\n",
       "      <td>4.3</td>\n",
       "      <td>3.611534</td>\n",
       "    </tr>\n",
       "  </tbody>\n",
       "</table>\n",
       "</div>"
      ],
      "text/plain": [
       "    Real Values  Predicted Values\n",
       "0           3.5          3.588545\n",
       "1           3.1          3.659482\n",
       "2           3.7          3.592631\n",
       "3           3.7          3.528897\n",
       "4           4.7          5.173242\n",
       "5           2.9          3.607780\n",
       "6           4.1          3.612485\n",
       "7           3.5          3.544641\n",
       "8           3.5          3.446283\n",
       "9           2.9          3.591258\n",
       "10          4.2          3.740081\n",
       "11          3.9          3.517331\n",
       "12          4.0          3.632387\n",
       "13          3.3          3.563311\n",
       "14          4.0          3.477655\n",
       "15          3.7          3.890802\n",
       "16          3.2          3.488948\n",
       "17          3.3          3.561152\n",
       "18          4.3          3.698742\n",
       "19          4.3          3.611534"
      ]
     },
     "execution_count": 47,
     "metadata": {},
     "output_type": "execute_result"
    }
   ],
   "source": [
    "#Comparing Linear Regression predictions with true values\n",
    "\n",
    "lr_error = pd.DataFrame({\"Real Values\": np.array(y_test).flatten(), \n",
    "                         \"Predicted Values\": lr_preds.flatten()})\n",
    "lr_error.head(20)\n"
   ]
  },
  {
   "cell_type": "code",
   "execution_count": 48,
   "id": "2da3c9c7",
   "metadata": {},
   "outputs": [
    {
     "name": "stdout",
     "output_type": "stream",
     "text": [
      "Linear Regression Model\n",
      "Mean Absolute error: 0.29\n",
      "Mean Squared error: 0.14\n",
      "Root Mean Squared error: 0.38\n",
      "R2 Score: 0.31\n"
     ]
    }
   ],
   "source": [
    "#Evaluating the Linear Regression Model\n",
    "\n",
    "print(\"Linear Regression Model\")\n",
    "print(\"Mean Absolute error:\", round(mean_absolute_error(y_test, lr_preds),2))\n",
    "\n",
    "print(\"Mean Squared error:\", round(mean_squared_error(y_test, lr_preds),2))\n",
    "\n",
    "print(\"Root Mean Squared error:\", round(np.sqrt(mean_squared_error(y_test, lr_preds)),2))\n",
    "\n",
    "print(\"R2 Score:\", round(r2_score(y_test, lr_preds),2))\n"
   ]
  },
  {
   "cell_type": "markdown",
   "id": "dda5a9ea",
   "metadata": {},
   "source": [
    "### 5.2 Decision Tree Regressor"
   ]
  },
  {
   "cell_type": "code",
   "execution_count": 49,
   "id": "0b16d5f9",
   "metadata": {},
   "outputs": [],
   "source": [
    "#Instantiate the model\n",
    "\n",
    "dtr = DecisionTreeRegressor()\n",
    "\n",
    "#Fit the model into the data\n",
    "\n",
    "dtr.fit(X_train, y_train)\n",
    "\n",
    "#Making predictions\n",
    "\n",
    "dtr_preds = dtr.predict(X_test)\n"
   ]
  },
  {
   "cell_type": "code",
   "execution_count": 50,
   "id": "02dc0396",
   "metadata": {},
   "outputs": [
    {
     "data": {
      "text/html": [
       "<div>\n",
       "<style scoped>\n",
       "    .dataframe tbody tr th:only-of-type {\n",
       "        vertical-align: middle;\n",
       "    }\n",
       "\n",
       "    .dataframe tbody tr th {\n",
       "        vertical-align: top;\n",
       "    }\n",
       "\n",
       "    .dataframe thead th {\n",
       "        text-align: right;\n",
       "    }\n",
       "</style>\n",
       "<table border=\"1\" class=\"dataframe\">\n",
       "  <thead>\n",
       "    <tr style=\"text-align: right;\">\n",
       "      <th></th>\n",
       "      <th>Real Values</th>\n",
       "      <th>Predicted Values</th>\n",
       "    </tr>\n",
       "  </thead>\n",
       "  <tbody>\n",
       "    <tr>\n",
       "      <th>0</th>\n",
       "      <td>3.5</td>\n",
       "      <td>3.50</td>\n",
       "    </tr>\n",
       "    <tr>\n",
       "      <th>1</th>\n",
       "      <td>3.1</td>\n",
       "      <td>3.40</td>\n",
       "    </tr>\n",
       "    <tr>\n",
       "      <th>2</th>\n",
       "      <td>3.7</td>\n",
       "      <td>3.75</td>\n",
       "    </tr>\n",
       "    <tr>\n",
       "      <th>3</th>\n",
       "      <td>3.7</td>\n",
       "      <td>3.50</td>\n",
       "    </tr>\n",
       "    <tr>\n",
       "      <th>4</th>\n",
       "      <td>4.7</td>\n",
       "      <td>4.70</td>\n",
       "    </tr>\n",
       "    <tr>\n",
       "      <th>5</th>\n",
       "      <td>2.9</td>\n",
       "      <td>2.90</td>\n",
       "    </tr>\n",
       "    <tr>\n",
       "      <th>6</th>\n",
       "      <td>4.1</td>\n",
       "      <td>4.10</td>\n",
       "    </tr>\n",
       "    <tr>\n",
       "      <th>7</th>\n",
       "      <td>3.5</td>\n",
       "      <td>3.10</td>\n",
       "    </tr>\n",
       "    <tr>\n",
       "      <th>8</th>\n",
       "      <td>3.5</td>\n",
       "      <td>3.10</td>\n",
       "    </tr>\n",
       "    <tr>\n",
       "      <th>9</th>\n",
       "      <td>2.9</td>\n",
       "      <td>2.90</td>\n",
       "    </tr>\n",
       "    <tr>\n",
       "      <th>10</th>\n",
       "      <td>4.2</td>\n",
       "      <td>4.20</td>\n",
       "    </tr>\n",
       "    <tr>\n",
       "      <th>11</th>\n",
       "      <td>3.9</td>\n",
       "      <td>4.00</td>\n",
       "    </tr>\n",
       "    <tr>\n",
       "      <th>12</th>\n",
       "      <td>4.0</td>\n",
       "      <td>4.00</td>\n",
       "    </tr>\n",
       "    <tr>\n",
       "      <th>13</th>\n",
       "      <td>3.3</td>\n",
       "      <td>3.30</td>\n",
       "    </tr>\n",
       "    <tr>\n",
       "      <th>14</th>\n",
       "      <td>4.0</td>\n",
       "      <td>4.00</td>\n",
       "    </tr>\n",
       "    <tr>\n",
       "      <th>15</th>\n",
       "      <td>3.7</td>\n",
       "      <td>3.70</td>\n",
       "    </tr>\n",
       "    <tr>\n",
       "      <th>16</th>\n",
       "      <td>3.2</td>\n",
       "      <td>3.10</td>\n",
       "    </tr>\n",
       "    <tr>\n",
       "      <th>17</th>\n",
       "      <td>3.3</td>\n",
       "      <td>3.30</td>\n",
       "    </tr>\n",
       "    <tr>\n",
       "      <th>18</th>\n",
       "      <td>4.3</td>\n",
       "      <td>4.30</td>\n",
       "    </tr>\n",
       "    <tr>\n",
       "      <th>19</th>\n",
       "      <td>4.3</td>\n",
       "      <td>4.30</td>\n",
       "    </tr>\n",
       "  </tbody>\n",
       "</table>\n",
       "</div>"
      ],
      "text/plain": [
       "    Real Values  Predicted Values\n",
       "0           3.5              3.50\n",
       "1           3.1              3.40\n",
       "2           3.7              3.75\n",
       "3           3.7              3.50\n",
       "4           4.7              4.70\n",
       "5           2.9              2.90\n",
       "6           4.1              4.10\n",
       "7           3.5              3.10\n",
       "8           3.5              3.10\n",
       "9           2.9              2.90\n",
       "10          4.2              4.20\n",
       "11          3.9              4.00\n",
       "12          4.0              4.00\n",
       "13          3.3              3.30\n",
       "14          4.0              4.00\n",
       "15          3.7              3.70\n",
       "16          3.2              3.10\n",
       "17          3.3              3.30\n",
       "18          4.3              4.30\n",
       "19          4.3              4.30"
      ]
     },
     "execution_count": 50,
     "metadata": {},
     "output_type": "execute_result"
    }
   ],
   "source": [
    "#Comparing Decision Tree Regressor predictions with true values\n",
    "\n",
    "dtr_error = pd.DataFrame({\"Real Values\": np.array(y_test).flatten(), \n",
    "                         \"Predicted Values\": dtr_preds.flatten()})\n",
    "dtr_error.head(20)"
   ]
  },
  {
   "cell_type": "code",
   "execution_count": 51,
   "id": "e75f67c7",
   "metadata": {},
   "outputs": [
    {
     "name": "stdout",
     "output_type": "stream",
     "text": [
      "Decision Tree Regressor Model\n",
      "Mean Absolute error: 0.05\n",
      "Mean Squared error: 0.03\n",
      "Root Mean Squared error: 0.17\n",
      "R2 Score: 0.85\n"
     ]
    }
   ],
   "source": [
    "#Evaluating the Decision Tree Regressor Model\n",
    "\n",
    "print(\"Decision Tree Regressor Model\")\n",
    "print(\"Mean Absolute error:\", round(mean_absolute_error(y_test, dtr_preds),2))\n",
    "\n",
    "print(\"Mean Squared error:\", round(mean_squared_error(y_test, dtr_preds),2))\n",
    "\n",
    "print(\"Root Mean Squared error:\", round(np.sqrt(mean_squared_error(y_test, dtr_preds)),2))\n",
    "\n",
    "print(\"R2 Score:\", round(r2_score(y_test, dtr_preds),2))\n"
   ]
  },
  {
   "cell_type": "markdown",
   "id": "58823268",
   "metadata": {},
   "source": [
    "### 5.3 Lasso Regression\n",
    "\n"
   ]
  },
  {
   "cell_type": "code",
   "execution_count": 52,
   "id": "5934d912",
   "metadata": {},
   "outputs": [],
   "source": [
    "#Instantiate the model\n",
    "\n",
    "lasso = linear_model.Lasso()\n",
    "\n",
    "#Fit the model into the data\n",
    "\n",
    "lasso.fit(X_train, y_train)\n",
    "\n",
    "#Making predictions\n",
    "\n",
    "lasso_preds = lasso.predict(X_test)\n"
   ]
  },
  {
   "cell_type": "code",
   "execution_count": 53,
   "id": "b596344a",
   "metadata": {},
   "outputs": [
    {
     "data": {
      "text/html": [
       "<div>\n",
       "<style scoped>\n",
       "    .dataframe tbody tr th:only-of-type {\n",
       "        vertical-align: middle;\n",
       "    }\n",
       "\n",
       "    .dataframe tbody tr th {\n",
       "        vertical-align: top;\n",
       "    }\n",
       "\n",
       "    .dataframe thead th {\n",
       "        text-align: right;\n",
       "    }\n",
       "</style>\n",
       "<table border=\"1\" class=\"dataframe\">\n",
       "  <thead>\n",
       "    <tr style=\"text-align: right;\">\n",
       "      <th></th>\n",
       "      <th>Real Values</th>\n",
       "      <th>Predicted Values</th>\n",
       "    </tr>\n",
       "  </thead>\n",
       "  <tbody>\n",
       "    <tr>\n",
       "      <th>0</th>\n",
       "      <td>3.5</td>\n",
       "      <td>3.636582</td>\n",
       "    </tr>\n",
       "    <tr>\n",
       "      <th>1</th>\n",
       "      <td>3.1</td>\n",
       "      <td>3.682216</td>\n",
       "    </tr>\n",
       "    <tr>\n",
       "      <th>2</th>\n",
       "      <td>3.7</td>\n",
       "      <td>3.610689</td>\n",
       "    </tr>\n",
       "    <tr>\n",
       "      <th>3</th>\n",
       "      <td>3.7</td>\n",
       "      <td>3.558697</td>\n",
       "    </tr>\n",
       "    <tr>\n",
       "      <th>4</th>\n",
       "      <td>4.7</td>\n",
       "      <td>5.406066</td>\n",
       "    </tr>\n",
       "    <tr>\n",
       "      <th>5</th>\n",
       "      <td>2.9</td>\n",
       "      <td>3.597609</td>\n",
       "    </tr>\n",
       "    <tr>\n",
       "      <th>6</th>\n",
       "      <td>4.1</td>\n",
       "      <td>3.658552</td>\n",
       "    </tr>\n",
       "    <tr>\n",
       "      <th>7</th>\n",
       "      <td>3.5</td>\n",
       "      <td>3.639644</td>\n",
       "    </tr>\n",
       "    <tr>\n",
       "      <th>8</th>\n",
       "      <td>3.5</td>\n",
       "      <td>3.542527</td>\n",
       "    </tr>\n",
       "    <tr>\n",
       "      <th>9</th>\n",
       "      <td>2.9</td>\n",
       "      <td>3.631856</td>\n",
       "    </tr>\n",
       "    <tr>\n",
       "      <th>10</th>\n",
       "      <td>4.2</td>\n",
       "      <td>3.750405</td>\n",
       "    </tr>\n",
       "    <tr>\n",
       "      <th>11</th>\n",
       "      <td>3.9</td>\n",
       "      <td>3.555776</td>\n",
       "    </tr>\n",
       "    <tr>\n",
       "      <th>12</th>\n",
       "      <td>4.0</td>\n",
       "      <td>3.723298</td>\n",
       "    </tr>\n",
       "    <tr>\n",
       "      <th>13</th>\n",
       "      <td>3.3</td>\n",
       "      <td>3.646560</td>\n",
       "    </tr>\n",
       "    <tr>\n",
       "      <th>14</th>\n",
       "      <td>4.0</td>\n",
       "      <td>3.630117</td>\n",
       "    </tr>\n",
       "    <tr>\n",
       "      <th>15</th>\n",
       "      <td>3.7</td>\n",
       "      <td>3.619204</td>\n",
       "    </tr>\n",
       "    <tr>\n",
       "      <th>16</th>\n",
       "      <td>3.2</td>\n",
       "      <td>3.609580</td>\n",
       "    </tr>\n",
       "    <tr>\n",
       "      <th>17</th>\n",
       "      <td>3.3</td>\n",
       "      <td>3.617250</td>\n",
       "    </tr>\n",
       "    <tr>\n",
       "      <th>18</th>\n",
       "      <td>4.3</td>\n",
       "      <td>3.751093</td>\n",
       "    </tr>\n",
       "    <tr>\n",
       "      <th>19</th>\n",
       "      <td>4.3</td>\n",
       "      <td>3.642772</td>\n",
       "    </tr>\n",
       "  </tbody>\n",
       "</table>\n",
       "</div>"
      ],
      "text/plain": [
       "    Real Values  Predicted Values\n",
       "0           3.5          3.636582\n",
       "1           3.1          3.682216\n",
       "2           3.7          3.610689\n",
       "3           3.7          3.558697\n",
       "4           4.7          5.406066\n",
       "5           2.9          3.597609\n",
       "6           4.1          3.658552\n",
       "7           3.5          3.639644\n",
       "8           3.5          3.542527\n",
       "9           2.9          3.631856\n",
       "10          4.2          3.750405\n",
       "11          3.9          3.555776\n",
       "12          4.0          3.723298\n",
       "13          3.3          3.646560\n",
       "14          4.0          3.630117\n",
       "15          3.7          3.619204\n",
       "16          3.2          3.609580\n",
       "17          3.3          3.617250\n",
       "18          4.3          3.751093\n",
       "19          4.3          3.642772"
      ]
     },
     "execution_count": 53,
     "metadata": {},
     "output_type": "execute_result"
    }
   ],
   "source": [
    "#Comparing Lasso Regression predictions with true values\n",
    "\n",
    "lasso_error = pd.DataFrame({\"Real Values\": np.array(y_test).flatten(), \n",
    "                         \"Predicted Values\": lasso_preds.flatten()})\n",
    "lasso_error.head(20)"
   ]
  },
  {
   "cell_type": "code",
   "execution_count": 54,
   "id": "73a7676f",
   "metadata": {},
   "outputs": [
    {
     "name": "stdout",
     "output_type": "stream",
     "text": [
      "Lasso Regression Model\n",
      "Mean Absolute error: 0.31\n",
      "Mean Squared error: 0.16\n",
      "Root Mean Squared error: 0.4\n",
      "R2 Score: 0.22\n"
     ]
    }
   ],
   "source": [
    "#Evaluating the Lasso Regression Model\n",
    "\n",
    "print(\"Lasso Regression Model\")\n",
    "print(\"Mean Absolute error:\", round(mean_absolute_error(y_test, lasso_preds),2))\n",
    "\n",
    "print(\"Mean Squared error:\", round(mean_squared_error(y_test, lasso_preds),2))\n",
    "\n",
    "print(\"Root Mean Squared error:\", round(np.sqrt(mean_squared_error(y_test, lasso_preds)),2))\n",
    "\n",
    "print(\"R2 Score:\", round(r2_score(y_test, lasso_preds),2))\n"
   ]
  },
  {
   "cell_type": "markdown",
   "id": "9fcba8de",
   "metadata": {},
   "source": [
    "### 5.4 Support Vector Regressor"
   ]
  },
  {
   "cell_type": "code",
   "execution_count": 55,
   "id": "5058c1b7",
   "metadata": {},
   "outputs": [],
   "source": [
    "#Instantiate the model\n",
    "\n",
    "svr = SVR()\n",
    "\n",
    "#Fit the model into the data\n",
    "\n",
    "svr.fit(X_train, y_train)\n",
    "\n",
    "#Making predictions\n",
    "\n",
    "svr_preds = svr.predict(X_test)\n"
   ]
  },
  {
   "cell_type": "code",
   "execution_count": 56,
   "id": "43629b7c",
   "metadata": {},
   "outputs": [
    {
     "data": {
      "text/html": [
       "<div>\n",
       "<style scoped>\n",
       "    .dataframe tbody tr th:only-of-type {\n",
       "        vertical-align: middle;\n",
       "    }\n",
       "\n",
       "    .dataframe tbody tr th {\n",
       "        vertical-align: top;\n",
       "    }\n",
       "\n",
       "    .dataframe thead th {\n",
       "        text-align: right;\n",
       "    }\n",
       "</style>\n",
       "<table border=\"1\" class=\"dataframe\">\n",
       "  <thead>\n",
       "    <tr style=\"text-align: right;\">\n",
       "      <th></th>\n",
       "      <th>Real Values</th>\n",
       "      <th>Predicted Values</th>\n",
       "    </tr>\n",
       "  </thead>\n",
       "  <tbody>\n",
       "    <tr>\n",
       "      <th>0</th>\n",
       "      <td>3.5</td>\n",
       "      <td>3.597249</td>\n",
       "    </tr>\n",
       "    <tr>\n",
       "      <th>1</th>\n",
       "      <td>3.1</td>\n",
       "      <td>3.678379</td>\n",
       "    </tr>\n",
       "    <tr>\n",
       "      <th>2</th>\n",
       "      <td>3.7</td>\n",
       "      <td>3.629199</td>\n",
       "    </tr>\n",
       "    <tr>\n",
       "      <th>3</th>\n",
       "      <td>3.7</td>\n",
       "      <td>3.521739</td>\n",
       "    </tr>\n",
       "    <tr>\n",
       "      <th>4</th>\n",
       "      <td>4.7</td>\n",
       "      <td>4.600434</td>\n",
       "    </tr>\n",
       "    <tr>\n",
       "      <th>5</th>\n",
       "      <td>2.9</td>\n",
       "      <td>3.539020</td>\n",
       "    </tr>\n",
       "    <tr>\n",
       "      <th>6</th>\n",
       "      <td>4.1</td>\n",
       "      <td>3.797045</td>\n",
       "    </tr>\n",
       "    <tr>\n",
       "      <th>7</th>\n",
       "      <td>3.5</td>\n",
       "      <td>3.536794</td>\n",
       "    </tr>\n",
       "    <tr>\n",
       "      <th>8</th>\n",
       "      <td>3.5</td>\n",
       "      <td>3.537175</td>\n",
       "    </tr>\n",
       "    <tr>\n",
       "      <th>9</th>\n",
       "      <td>2.9</td>\n",
       "      <td>3.532038</td>\n",
       "    </tr>\n",
       "    <tr>\n",
       "      <th>10</th>\n",
       "      <td>4.2</td>\n",
       "      <td>3.823586</td>\n",
       "    </tr>\n",
       "    <tr>\n",
       "      <th>11</th>\n",
       "      <td>3.9</td>\n",
       "      <td>3.550332</td>\n",
       "    </tr>\n",
       "    <tr>\n",
       "      <th>12</th>\n",
       "      <td>4.0</td>\n",
       "      <td>3.656123</td>\n",
       "    </tr>\n",
       "    <tr>\n",
       "      <th>13</th>\n",
       "      <td>3.3</td>\n",
       "      <td>3.511575</td>\n",
       "    </tr>\n",
       "    <tr>\n",
       "      <th>14</th>\n",
       "      <td>4.0</td>\n",
       "      <td>3.680418</td>\n",
       "    </tr>\n",
       "    <tr>\n",
       "      <th>15</th>\n",
       "      <td>3.7</td>\n",
       "      <td>3.539807</td>\n",
       "    </tr>\n",
       "    <tr>\n",
       "      <th>16</th>\n",
       "      <td>3.2</td>\n",
       "      <td>3.538049</td>\n",
       "    </tr>\n",
       "    <tr>\n",
       "      <th>17</th>\n",
       "      <td>3.3</td>\n",
       "      <td>3.554617</td>\n",
       "    </tr>\n",
       "    <tr>\n",
       "      <th>18</th>\n",
       "      <td>4.3</td>\n",
       "      <td>4.074575</td>\n",
       "    </tr>\n",
       "    <tr>\n",
       "      <th>19</th>\n",
       "      <td>4.3</td>\n",
       "      <td>3.725144</td>\n",
       "    </tr>\n",
       "  </tbody>\n",
       "</table>\n",
       "</div>"
      ],
      "text/plain": [
       "    Real Values  Predicted Values\n",
       "0           3.5          3.597249\n",
       "1           3.1          3.678379\n",
       "2           3.7          3.629199\n",
       "3           3.7          3.521739\n",
       "4           4.7          4.600434\n",
       "5           2.9          3.539020\n",
       "6           4.1          3.797045\n",
       "7           3.5          3.536794\n",
       "8           3.5          3.537175\n",
       "9           2.9          3.532038\n",
       "10          4.2          3.823586\n",
       "11          3.9          3.550332\n",
       "12          4.0          3.656123\n",
       "13          3.3          3.511575\n",
       "14          4.0          3.680418\n",
       "15          3.7          3.539807\n",
       "16          3.2          3.538049\n",
       "17          3.3          3.554617\n",
       "18          4.3          4.074575\n",
       "19          4.3          3.725144"
      ]
     },
     "execution_count": 56,
     "metadata": {},
     "output_type": "execute_result"
    }
   ],
   "source": [
    "#Comparing Support Vector Regressor predictions with true values\n",
    "\n",
    "svr_error = pd.DataFrame({\"Real Values\": np.array(y_test).flatten(), \n",
    "                         \"Predicted Values\": svr_preds.flatten()})\n",
    "\n",
    "svr_error.head(20)"
   ]
  },
  {
   "cell_type": "code",
   "execution_count": 57,
   "id": "b34f8cea",
   "metadata": {},
   "outputs": [
    {
     "name": "stdout",
     "output_type": "stream",
     "text": [
      "Support Vector Regressor Model\n",
      "Mean Absolute error: 0.27\n",
      "Mean Squared error: 0.13\n",
      "Root Mean Squared error: 0.35\n",
      "R2 Score: 0.39\n"
     ]
    }
   ],
   "source": [
    "#Evaluating the Support Vector Regressor Model\n",
    "\n",
    "print(\"Support Vector Regressor Model\")\n",
    "print(\"Mean Absolute error:\", round(mean_absolute_error(y_test, svr_preds),2))\n",
    "\n",
    "print(\"Mean Squared error:\", round(mean_squared_error(y_test, svr_preds),2))\n",
    "\n",
    "print(\"Root Mean Squared error:\", round(np.sqrt(mean_squared_error(y_test, svr_preds)),2))\n",
    "\n",
    "print(\"R2 Score:\", round(r2_score(y_test, svr_preds),2))\n"
   ]
  },
  {
   "cell_type": "markdown",
   "id": "72cdd5e1",
   "metadata": {},
   "source": [
    "### 5.5 Random Forest Regressor"
   ]
  },
  {
   "cell_type": "code",
   "execution_count": 58,
   "id": "1ee6268d",
   "metadata": {},
   "outputs": [],
   "source": [
    "#Instantiate the model\n",
    "\n",
    "rfr = RandomForestRegressor()\n",
    "\n",
    "#Fit the model into the data\n",
    "\n",
    "rfr.fit(X_train, y_train)\n",
    "\n",
    "#Making predictions\n",
    "\n",
    "rfr_preds = rfr.predict(X_test)\n"
   ]
  },
  {
   "cell_type": "code",
   "execution_count": 59,
   "id": "cf4bac2a",
   "metadata": {},
   "outputs": [
    {
     "data": {
      "text/html": [
       "<div>\n",
       "<style scoped>\n",
       "    .dataframe tbody tr th:only-of-type {\n",
       "        vertical-align: middle;\n",
       "    }\n",
       "\n",
       "    .dataframe tbody tr th {\n",
       "        vertical-align: top;\n",
       "    }\n",
       "\n",
       "    .dataframe thead th {\n",
       "        text-align: right;\n",
       "    }\n",
       "</style>\n",
       "<table border=\"1\" class=\"dataframe\">\n",
       "  <thead>\n",
       "    <tr style=\"text-align: right;\">\n",
       "      <th></th>\n",
       "      <th>Real Values</th>\n",
       "      <th>Predicted Values</th>\n",
       "    </tr>\n",
       "  </thead>\n",
       "  <tbody>\n",
       "    <tr>\n",
       "      <th>0</th>\n",
       "      <td>3.5</td>\n",
       "      <td>3.503000</td>\n",
       "    </tr>\n",
       "    <tr>\n",
       "      <th>1</th>\n",
       "      <td>3.1</td>\n",
       "      <td>3.370000</td>\n",
       "    </tr>\n",
       "    <tr>\n",
       "      <th>2</th>\n",
       "      <td>3.7</td>\n",
       "      <td>3.739661</td>\n",
       "    </tr>\n",
       "    <tr>\n",
       "      <th>3</th>\n",
       "      <td>3.7</td>\n",
       "      <td>3.448500</td>\n",
       "    </tr>\n",
       "    <tr>\n",
       "      <th>4</th>\n",
       "      <td>4.7</td>\n",
       "      <td>4.684000</td>\n",
       "    </tr>\n",
       "    <tr>\n",
       "      <th>5</th>\n",
       "      <td>2.9</td>\n",
       "      <td>3.055000</td>\n",
       "    </tr>\n",
       "    <tr>\n",
       "      <th>6</th>\n",
       "      <td>4.1</td>\n",
       "      <td>4.099000</td>\n",
       "    </tr>\n",
       "    <tr>\n",
       "      <th>7</th>\n",
       "      <td>3.5</td>\n",
       "      <td>3.405333</td>\n",
       "    </tr>\n",
       "    <tr>\n",
       "      <th>8</th>\n",
       "      <td>3.5</td>\n",
       "      <td>3.451733</td>\n",
       "    </tr>\n",
       "    <tr>\n",
       "      <th>9</th>\n",
       "      <td>2.9</td>\n",
       "      <td>3.101000</td>\n",
       "    </tr>\n",
       "    <tr>\n",
       "      <th>10</th>\n",
       "      <td>4.2</td>\n",
       "      <td>4.178000</td>\n",
       "    </tr>\n",
       "    <tr>\n",
       "      <th>11</th>\n",
       "      <td>3.9</td>\n",
       "      <td>3.382200</td>\n",
       "    </tr>\n",
       "    <tr>\n",
       "      <th>12</th>\n",
       "      <td>4.0</td>\n",
       "      <td>3.984500</td>\n",
       "    </tr>\n",
       "    <tr>\n",
       "      <th>13</th>\n",
       "      <td>3.3</td>\n",
       "      <td>3.315200</td>\n",
       "    </tr>\n",
       "    <tr>\n",
       "      <th>14</th>\n",
       "      <td>4.0</td>\n",
       "      <td>3.985000</td>\n",
       "    </tr>\n",
       "    <tr>\n",
       "      <th>15</th>\n",
       "      <td>3.7</td>\n",
       "      <td>3.783000</td>\n",
       "    </tr>\n",
       "    <tr>\n",
       "      <th>16</th>\n",
       "      <td>3.2</td>\n",
       "      <td>3.284750</td>\n",
       "    </tr>\n",
       "    <tr>\n",
       "      <th>17</th>\n",
       "      <td>3.3</td>\n",
       "      <td>3.307000</td>\n",
       "    </tr>\n",
       "    <tr>\n",
       "      <th>18</th>\n",
       "      <td>4.3</td>\n",
       "      <td>4.258000</td>\n",
       "    </tr>\n",
       "    <tr>\n",
       "      <th>19</th>\n",
       "      <td>4.3</td>\n",
       "      <td>4.192000</td>\n",
       "    </tr>\n",
       "  </tbody>\n",
       "</table>\n",
       "</div>"
      ],
      "text/plain": [
       "    Real Values  Predicted Values\n",
       "0           3.5          3.503000\n",
       "1           3.1          3.370000\n",
       "2           3.7          3.739661\n",
       "3           3.7          3.448500\n",
       "4           4.7          4.684000\n",
       "5           2.9          3.055000\n",
       "6           4.1          4.099000\n",
       "7           3.5          3.405333\n",
       "8           3.5          3.451733\n",
       "9           2.9          3.101000\n",
       "10          4.2          4.178000\n",
       "11          3.9          3.382200\n",
       "12          4.0          3.984500\n",
       "13          3.3          3.315200\n",
       "14          4.0          3.985000\n",
       "15          3.7          3.783000\n",
       "16          3.2          3.284750\n",
       "17          3.3          3.307000\n",
       "18          4.3          4.258000\n",
       "19          4.3          4.192000"
      ]
     },
     "execution_count": 59,
     "metadata": {},
     "output_type": "execute_result"
    }
   ],
   "source": [
    "#Comparing Random Forest Regressor predictions with true values\n",
    "\n",
    "rfr_error = pd.DataFrame({\"Real Values\": np.array(y_test).flatten(), \n",
    "                         \"Predicted Values\": rfr_preds.flatten()})\n",
    "\n",
    "rfr_error.head(20)"
   ]
  },
  {
   "cell_type": "code",
   "execution_count": 60,
   "id": "4ed9bc0e",
   "metadata": {},
   "outputs": [
    {
     "name": "stdout",
     "output_type": "stream",
     "text": [
      "Random Forest Regressor Model\n",
      "Mean Absolute error: 0.07\n",
      "Mean Squared error: 0.02\n",
      "Root Mean Squared error: 0.14\n",
      "R2 Score: 0.91\n"
     ]
    }
   ],
   "source": [
    "#Evaluating the Support Vector Regressor Model\n",
    "\n",
    "print(\"Random Forest Regressor Model\")\n",
    "print(\"Mean Absolute error:\", round(mean_absolute_error(y_test, rfr_preds),2))\n",
    "\n",
    "print(\"Mean Squared error:\", round(mean_squared_error(y_test, rfr_preds),2))\n",
    "\n",
    "print(\"Root Mean Squared error:\", round(np.sqrt(mean_squared_error(y_test, rfr_preds)),2))\n",
    "\n",
    "print(\"R2 Score:\", round(r2_score(y_test, rfr_preds),2))\n"
   ]
  },
  {
   "cell_type": "markdown",
   "id": "26ea3e00",
   "metadata": {},
   "source": [
    "# End"
   ]
  }
 ],
 "metadata": {
  "kernelspec": {
   "display_name": "Python 3 (ipykernel)",
   "language": "python",
   "name": "python3"
  },
  "language_info": {
   "codemirror_mode": {
    "name": "ipython",
    "version": 3
   },
   "file_extension": ".py",
   "mimetype": "text/x-python",
   "name": "python",
   "nbconvert_exporter": "python",
   "pygments_lexer": "ipython3",
   "version": "3.9.12"
  }
 },
 "nbformat": 4,
 "nbformat_minor": 5
}
